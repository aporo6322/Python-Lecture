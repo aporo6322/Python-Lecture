{
  "cells": [
    {
      "cell_type": "code",
      "execution_count": null,
      "metadata": {
        "id": "iEu35nwTXCwv",
        "outputId": "c60315ff-53a1-45fc-96af-f4f29503e5c2",
        "colab": {
          "base_uri": "https://localhost:8080/"
        }
      },
      "outputs": [
        {
          "output_type": "stream",
          "name": "stdout",
          "text": [
            "--2025-06-14 02:54:40--  https://raw.githubusercontent.com/utokyo-ipp/utokyo-ipp.github.io/master/colab/5/factorial.py\n",
            "Resolving raw.githubusercontent.com (raw.githubusercontent.com)... 185.199.111.133, 185.199.109.133, 185.199.110.133, ...\n",
            "Connecting to raw.githubusercontent.com (raw.githubusercontent.com)|185.199.111.133|:443... connected.\n",
            "HTTP request sent, awaiting response... 200 OK\n",
            "Length: 109 [text/plain]\n",
            "Saving to: ‘./factorial.py’\n",
            "\n",
            "factorial.py        100%[===================>]     109  --.-KB/s    in 0s      \n",
            "\n",
            "2025-06-14 02:54:41 (2.77 MB/s) - ‘./factorial.py’ saved [109/109]\n",
            "\n",
            "--2025-06-14 02:54:41--  https://raw.githubusercontent.com/utokyo-ipp/utokyo-ipp.github.io/master/colab/5/fig/py_open_2.png\n",
            "Resolving raw.githubusercontent.com (raw.githubusercontent.com)... 185.199.108.133, 185.199.109.133, 185.199.110.133, ...\n",
            "Connecting to raw.githubusercontent.com (raw.githubusercontent.com)|185.199.108.133|:443... connected.\n",
            "HTTP request sent, awaiting response... 200 OK\n",
            "Length: 22815 (22K) [image/png]\n",
            "Saving to: ‘fig/py_open_2.png’\n",
            "\n",
            "py_open_2.png       100%[===================>]  22.28K  --.-KB/s    in 0.009s  \n",
            "\n",
            "2025-06-14 02:54:41 (2.47 MB/s) - ‘fig/py_open_2.png’ saved [22815/22815]\n",
            "\n",
            "--2025-06-14 02:54:41--  https://raw.githubusercontent.com/utokyo-ipp/utokyo-ipp.github.io/master/colab/5/fig/py_open_1.png\n",
            "Resolving raw.githubusercontent.com (raw.githubusercontent.com)... 185.199.108.133, 185.199.109.133, 185.199.110.133, ...\n",
            "Connecting to raw.githubusercontent.com (raw.githubusercontent.com)|185.199.108.133|:443... connected.\n",
            "HTTP request sent, awaiting response... 200 OK\n",
            "Length: 36596 (36K) [image/png]\n",
            "Saving to: ‘fig/py_open_1.png’\n",
            "\n",
            "py_open_1.png       100%[===================>]  35.74K  --.-KB/s    in 0.04s   \n",
            "\n",
            "2025-06-14 02:54:42 (853 KB/s) - ‘fig/py_open_1.png’ saved [36596/36596]\n",
            "\n",
            "--2025-06-14 02:54:42--  https://raw.githubusercontent.com/utokyo-ipp/utokyo-ipp.github.io/master/colab/5/fig/py_conv_1.png\n",
            "Resolving raw.githubusercontent.com (raw.githubusercontent.com)... 185.199.108.133, 185.199.109.133, 185.199.110.133, ...\n",
            "Connecting to raw.githubusercontent.com (raw.githubusercontent.com)|185.199.108.133|:443... connected.\n",
            "HTTP request sent, awaiting response... 200 OK\n",
            "Length: 27636 (27K) [image/png]\n",
            "Saving to: ‘fig/py_conv_1.png’\n",
            "\n",
            "py_conv_1.png       100%[===================>]  26.99K  --.-KB/s    in 0.01s   \n",
            "\n",
            "2025-06-14 02:54:43 (2.64 MB/s) - ‘fig/py_conv_1.png’ saved [27636/27636]\n",
            "\n",
            "--2025-06-14 02:54:43--  https://raw.githubusercontent.com/utokyo-ipp/utokyo-ipp.github.io/master/colab/5/fig/py_conv_2.png\n",
            "Resolving raw.githubusercontent.com (raw.githubusercontent.com)... 185.199.108.133, 185.199.109.133, 185.199.110.133, ...\n",
            "Connecting to raw.githubusercontent.com (raw.githubusercontent.com)|185.199.108.133|:443... connected.\n"
          ]
        }
      ],
      "source": [
        "##================================================\n",
        "## このセルを最初に実行せよ---Run this cell first.\n",
        "##================================================\n",
        "!wget -P . https://raw.githubusercontent.com/utokyo-ipp/utokyo-ipp.github.io/master/colab/5/factorial.py\n",
        "!wget -P fig https://raw.githubusercontent.com/utokyo-ipp/utokyo-ipp.github.io/master/colab/5/fig/py_open_2.png\n",
        "!wget -P fig https://raw.githubusercontent.com/utokyo-ipp/utokyo-ipp.github.io/master/colab/5/fig/py_open_1.png\n",
        "!wget -P fig https://raw.githubusercontent.com/utokyo-ipp/utokyo-ipp.github.io/master/colab/5/fig/py_conv_1.png\n",
        "!wget -P fig https://raw.githubusercontent.com/utokyo-ipp/utokyo-ipp.github.io/master/colab/5/fig/py_conv_2.png"
      ]
    },
    {
      "cell_type": "markdown",
      "metadata": {
        "id": "ynGqBDs2XCw1"
      },
      "source": [
        "# 5-1. モジュールの使い方\n",
        "モジュールの使い方について説明します。\n",
        "\n",
        "参考\n",
        "\n",
        "- https://docs.python.org/ja/3/reference/import.html\n",
        "- https://docs.python.org/ja/3/tutorial/modules.html\n",
        "- https://docs.python.org/ja/3/library/math.html\n",
        "\n",
        "## モジュールのインポート\n",
        "\n",
        "Pythonでは特別な関数や値をまとめたもの（これを**モジュール**といいます）を使うために、**`import`** という文を使います（第1回 (1-1) においても説明しました）。具体的には次のように記述します。\n",
        "\n",
        "---\n",
        "```Python\n",
        "import モジュール名\n",
        "```\n",
        "---\n",
        "\n",
        "たとえば、数学関係の機能をまとめた `math` というモジュールがあります。これらの関数や値を使いたいときは、以下のようにして `math` モジュールを `import` で**インポート**します。そうすると、`math.関数名` という形で関数を用いることができます。"
      ]
    },
    {
      "cell_type": "code",
      "execution_count": null,
      "metadata": {
        "id": "sleKeCc_XCw4"
      },
      "outputs": [],
      "source": [
        "import math# importは大抵セルの一番上に記述します\n",
        "print(math.sqrt(2)) # sqrt は平方根を計算する関数\n",
        "print(math.pi) # πの値\n",
        "print(math.sin(math.pi/4)) # sin関数\n",
        "print(math.cos(0)) # cos関数\n",
        "print(math.log(32,2)) # 2を底とする32の対数（texで記述すると、$\\log_2 32$）"
      ]
    },
    {
      "cell_type": "markdown",
      "metadata": {
        "id": "LXG9-Yr2XCw4"
      },
      "source": [
        "上の例では、`math` モジュールの中の関数や値を使用しています。\n",
        "\n",
        "注意しなければならないのは、モジュールの中の関数を使う場合には、\n",
        "\n",
        "---\n",
        "```Python\n",
        "モジュール名.モジュールの中の関数名\n",
        "```\n",
        "---\n",
        "\n",
        "とする必要があるということです。\n",
        "\n",
        "モジュールの中の値（たとえば `math.pi`）も同様です。\n",
        "\n",
        "なお、複数の関数名をコンマ `,` で区切って並べて同時にインポートすることもできます。"
      ]
    },
    {
      "cell_type": "markdown",
      "metadata": {
        "id": "LK214mTIXCw5"
      },
      "source": [
        "## `from`\n",
        "\n",
        "モジュール内で定義されている関数を「モジュールの中の関数名」のようにして、「モジュール名.」を付けずにそのままの名前で、モジュールの読み込み元のプログラムで使いたい場合には、**`from`** を以下のように書くことで利用することができます。\n",
        "\n",
        "---\n",
        "```Python\n",
        "from モジュール名 import モジュールの中の関数名\n",
        "```\n",
        "---\n",
        "\n",
        "たとえば、次のようになります。"
      ]
    },
    {
      "cell_type": "code",
      "execution_count": null,
      "metadata": {
        "id": "4Esnl1NLXCw6"
      },
      "outputs": [],
      "source": [
        "from math import sqrt\n",
        "print(sqrt(2)) # sqrt は平方根を計算する関数\n",
        "from math import pi\n",
        "print(pi) # πの値\n",
        "from math import sin\n",
        "print(sin(math.pi/4)) # sin関数\n",
        "from math import cos\n",
        "print(cos(0)) # cos関数\n",
        "from math import log\n",
        "print(log(32,2)) # 2を底とする32の対数（texで記述すると、$\\log_2 32$）"
      ]
    },
    {
      "cell_type": "markdown",
      "metadata": {
        "id": "7FnKM7gOXCw7"
      },
      "source": [
        "この方法では、関数ごとに `from` を用いてインポートする必要があります。\n",
        "\n",
        "なお、関数だけではなく、グローバル変数や後に学習するクラスも、\n",
        "このようにしてインポートすることができます。\n",
        "\n",
        "別の方法として、**ワイルドカード** **`*`** を利用する方法もあります。\n",
        "\n",
        "---\n",
        "```Python\n",
        "from math import *\n",
        "```\n",
        "---\n",
        "\n",
        "この方法ではアンダースコア `_` で始まるものを除いた全ての名前が読み込まれるため、明示的に名前を指定する必要はありません。\n"
      ]
    },
    {
      "cell_type": "code",
      "execution_count": null,
      "metadata": {
        "id": "USroaDd2XCw8"
      },
      "outputs": [],
      "source": [
        "from math import *\n",
        "print(factorial(5)) # 5 の階乗 # import mathを使う場合、math.factorial(5)\n",
        "print(floor(2.31)) # 2.31以下の最大の整数  # import mathを使う場合、math.floor(2.31)\n",
        "print(e) # ネイピア数 # import mathを使う場合、math.e"
      ]
    },
    {
      "cell_type": "markdown",
      "metadata": {
        "id": "1XrdulkxXCw9"
      },
      "source": [
        "ただしこの方法は推奨されていません。理由は読み込んだモジュール内の未知の名前とプログラム内の名前が衝突する可能性があるためです。"
      ]
    },
    {
      "cell_type": "code",
      "execution_count": null,
      "metadata": {
        "id": "_LoErJp6XCw_"
      },
      "outputs": [],
      "source": [
        "pi = 'パイ' # piという変数に文字列「パイ」を代入する\n",
        "print(pi)\n",
        "from math import *\n",
        "print(pi) # mathモジュールのpiの値で上書きされる（衝突）"
      ]
    },
    {
      "cell_type": "markdown",
      "metadata": {
        "id": "MFMCcdhzXCw_"
      },
      "source": [
        "## `as`\n",
        "\n",
        "モジュール名が長すぎるなどの理由から別の名前としたい場合は、**`as`** を利用する方法もあります。\n",
        "たとえば、5-3において学習するNumPyというライブラリは `numpy` モジュールとして提供されていますが、\n",
        "次のように、 `numpy` を `np` という略称で使うことがあります。"
      ]
    },
    {
      "cell_type": "code",
      "execution_count": null,
      "metadata": {
        "id": "vLE0-riiXCxA"
      },
      "outputs": [],
      "source": [
        "import numpy\n",
        "print(numpy.ones((3, 5))) # 3×5の行列を表示\n",
        "import numpy as np\n",
        "print(np.ones((3, 5))) # np という短い名称で同じ関数を利用する"
      ]
    },
    {
      "cell_type": "markdown",
      "metadata": {
        "id": "w6abRi_aXCxA"
      },
      "source": [
        "個々の関数ごとに別の名前を付けることもできます。"
      ]
    },
    {
      "cell_type": "code",
      "execution_count": null,
      "metadata": {
        "id": "YU3bigM1XCxB"
      },
      "outputs": [],
      "source": [
        "import math\n",
        "print(math.factorial(5)) # 階乗を求める関数factorial # 5の階乗\n",
        "from math import factorial as fact # fact という名前でmath.factorialを使用したい\n",
        "print(fact(5))"
      ]
    },
    {
      "cell_type": "markdown",
      "metadata": {
        "id": "C004-oa8XCxB"
      },
      "source": [
        "## 練習\n",
        "第1回では、数学関数を以下のようにインポートし、`math.sqrt()` のようにして、数学関数や数学関係の変数を利用していました。\n",
        "\n",
        "---\n",
        "```Python\n",
        "import math\n",
        "print(math.sqrt(2))\n",
        "print(math.sin(math.pi))\n",
        "```\n",
        "\n",
        "---\n",
        "\n",
        "以下のセルを、モジュール名を付けないでこれらの関数や変数を参照できるように変更してください。"
      ]
    },
    {
      "cell_type": "code",
      "execution_count": null,
      "metadata": {
        "tags": [
          "raises-exception"
        ],
        "id": "4d5c_9AnXCxB"
      },
      "outputs": [],
      "source": [
        "import ...\n",
        "...\n",
        "\n",
        "print(sqrt(2))\n",
        "print(sin(pi))"
      ]
    },
    {
      "cell_type": "markdown",
      "metadata": {
        "id": "J-io7xYxXCxC"
      },
      "source": [
        "## 練習の解答\n",
        "\n",
        "`from` を使ってモジュールを指定、参照する関数を `import` でインポートしてください。"
      ]
    },
    {
      "cell_type": "code",
      "execution_count": null,
      "metadata": {
        "id": "_3TWhdHlXCxC"
      },
      "outputs": [],
      "source": [
        "from math import sqrt, sin, pi\n",
        "print(sqrt(2))\n",
        "print(sin(pi))"
      ]
    }
  ],
  "metadata": {
    "kernelspec": {
      "display_name": "Python 3",
      "language": "python",
      "name": "python3"
    },
    "language_info": {
      "name": "python"
    },
    "colab": {
      "provenance": []
    }
  },
  "nbformat": 4,
  "nbformat_minor": 0
}