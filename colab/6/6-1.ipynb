{
  "cells": [
    {
      "cell_type": "code",
      "execution_count": 1,
      "metadata": {
        "colab": {
          "base_uri": "https://localhost:8080/"
        },
        "id": "k6G6UCV-pebi",
        "outputId": "4a029b10-ea76-41b4-b165-1b0b6ddca7ca"
      },
      "outputs": [
        {
          "output_type": "stream",
          "name": "stdout",
          "text": [
            "--2025-06-14 04:15:48--  https://raw.githubusercontent.com/utokyo-ipp/utokyo-ipp.github.io/master/colab/6/jugemu.txt\n",
            "Resolving raw.githubusercontent.com (raw.githubusercontent.com)... 185.199.108.133, 185.199.109.133, 185.199.110.133, ...\n",
            "Connecting to raw.githubusercontent.com (raw.githubusercontent.com)|185.199.108.133|:443... connected.\n",
            "HTTP request sent, awaiting response... 200 OK\n",
            "Length: 366 [text/plain]\n",
            "Saving to: ‘./jugemu.txt’\n",
            "\n",
            "\rjugemu.txt            0%[                    ]       0  --.-KB/s               \rjugemu.txt          100%[===================>]     366  --.-KB/s    in 0s      \n",
            "\n",
            "2025-06-14 04:15:48 (6.77 MB/s) - ‘./jugemu.txt’ saved [366/366]\n",
            "\n"
          ]
        }
      ],
      "source": [
        "##================================================\n",
        "## このセルを最初に実行せよ---Run this cell first.\n",
        "##================================================\n",
        "!wget -P . https://raw.githubusercontent.com/utokyo-ipp/utokyo-ipp.github.io/master/colab/6/jugemu.txt"
      ]
    },
    {
      "cell_type": "markdown",
      "metadata": {
        "id": "h3gWh2JNpebm"
      },
      "source": [
        "# 6-1. 内包表記\n",
        "\n",
        "**内包表記**について説明します。\n",
        "\n",
        "参考:\n",
        "\n",
        "- https://docs.python.org/ja/3/tutorial/datastructures.html#list-comprehensions\n",
        "- https://docs.python.org/ja/3/tutorial/datastructures.html#nested-list-comprehensions\n",
        "\n",
        "## リスト内包表記\n",
        "\n",
        "Pythonでは各種の**内包表記** (comprehension) が利用できます。\n",
        "\n",
        "以下のような整数の自乗を要素に持つリストを作るプログラムでは、"
      ]
    },
    {
      "cell_type": "code",
      "execution_count": 2,
      "metadata": {
        "colab": {
          "base_uri": "https://localhost:8080/"
        },
        "id": "wDfg8jEjpebp",
        "outputId": "0ab89ee8-a3a5-43e5-91de-87ab116f1ded"
      },
      "outputs": [
        {
          "output_type": "execute_result",
          "data": {
            "text/plain": [
              "[0, 1, 4, 9, 16, 25]"
            ]
          },
          "metadata": {},
          "execution_count": 2
        }
      ],
      "source": [
        "squares1 = []\n",
        "for x in range(6):\n",
        "    squares1.append(x**2)\n",
        "squares1"
      ]
    },
    {
      "cell_type": "markdown",
      "metadata": {
        "id": "B_4t_Q-Kpebq"
      },
      "source": [
        "`squares1` として `[0, 1, 4, 9, 16, 25]` が得られます。\n",
        "これを内包表記を用いて書き換えると、以下のように一行で書け、プログラムが読みやすくなります。"
      ]
    },
    {
      "cell_type": "code",
      "execution_count": 3,
      "metadata": {
        "colab": {
          "base_uri": "https://localhost:8080/"
        },
        "id": "ZP2uePhhpebq",
        "outputId": "5c210221-a743-4acc-cb56-3b2c1509264b"
      },
      "outputs": [
        {
          "output_type": "execute_result",
          "data": {
            "text/plain": [
              "[0, 1, 4, 9, 16, 25]"
            ]
          },
          "metadata": {},
          "execution_count": 3
        }
      ],
      "source": [
        "squares2 = [x**2 for x in range(6)]\n",
        "squares2"
      ]
    },
    {
      "cell_type": "markdown",
      "metadata": {
        "id": "pRSEJgsxpebr"
      },
      "source": [
        "関数 **`sum`** は与えられた数のリストの総和を求めます。\n",
        "（2-2の練習にあった `sum_list` と同じ機能を持つ組み込みの関数です。）\n",
        "内包表記に対して `sum` を適用すると以下のようになります。"
      ]
    },
    {
      "cell_type": "code",
      "execution_count": 4,
      "metadata": {
        "colab": {
          "base_uri": "https://localhost:8080/"
        },
        "id": "Ijks1kxGpebs",
        "outputId": "64691505-40fc-4484-a95c-9dd2b864640f"
      },
      "outputs": [
        {
          "output_type": "execute_result",
          "data": {
            "text/plain": [
              "55"
            ]
          },
          "metadata": {},
          "execution_count": 4
        }
      ],
      "source": [
        "sum([x**2 for x in range(6)])"
      ]
    },
    {
      "cell_type": "markdown",
      "metadata": {
        "id": "CeTrQYqwpebs"
      },
      "source": [
        "以下の内包表記は3-2で用いられていました。"
      ]
    },
    {
      "cell_type": "code",
      "execution_count": 5,
      "metadata": {
        "colab": {
          "base_uri": "https://localhost:8080/"
        },
        "id": "PidMQDG7pebt",
        "outputId": "c3cda76f-10ac-4781-c76e-3eb36865681b"
      },
      "outputs": [
        {
          "output_type": "execute_result",
          "data": {
            "text/plain": [
              "['a',\n",
              " 'b',\n",
              " 'c',\n",
              " 'd',\n",
              " 'e',\n",
              " 'f',\n",
              " 'g',\n",
              " 'h',\n",
              " 'i',\n",
              " 'j',\n",
              " 'k',\n",
              " 'l',\n",
              " 'm',\n",
              " 'n',\n",
              " 'o',\n",
              " 'p',\n",
              " 'q',\n",
              " 'r',\n",
              " 's',\n",
              " 't',\n",
              " 'u',\n",
              " 'v',\n",
              " 'w',\n",
              " 'x',\n",
              " 'y',\n",
              " 'z']"
            ]
          },
          "metadata": {},
          "execution_count": 5
        }
      ],
      "source": [
        "[chr(i + ord('a')) for i in range(26)]"
      ]
    },
    {
      "cell_type": "markdown",
      "metadata": {
        "id": "yRAVMR_3pebu"
      },
      "source": [
        "## 練習\n",
        "文字列のリストが変数 `strings` に与えられたとき、\n",
        "それぞれの文字列の長さからなるリストを返す内包表記を記述してください。\n",
        "\n",
        "`strings = ['The', 'quick', 'brown']` のとき、結果は `[3, 5, 5]` となります。"
      ]
    },
    {
      "cell_type": "code",
      "execution_count": 9,
      "metadata": {
        "tags": [
          "raises-exception"
        ],
        "colab": {
          "base_uri": "https://localhost:8080/"
        },
        "id": "FikgIDJwpebu",
        "outputId": "6c7fe9aa-aeb5-4aa8-cbfd-dc3f6b35b72b"
      },
      "outputs": [
        {
          "output_type": "execute_result",
          "data": {
            "text/plain": [
              "[3, 5, 5]"
            ]
          },
          "metadata": {},
          "execution_count": 9
        }
      ],
      "source": [
        "strings = ['The', 'quick', 'brown']\n",
        "[len(i) for i in strings]"
      ]
    },
    {
      "cell_type": "markdown",
      "metadata": {
        "id": "aaexvBuZpebu"
      },
      "source": [
        "## 練習\n",
        "\n",
        "コンマで区切られた10進数からなる文字列が変数 `str1` に与えられたとき、\n",
        "それぞれの10進数を数に変換して得られるリストを返す内包表記を記述してください。\n",
        "\n",
        "`str1 = '123,45,-3'` のとき、結果は `[123, 45, -3]` となります。\n",
        "\n",
        "なお、コンマで区切られた10進数からなる文字列を、10進数の文字列のリストに変換するには、メソッド `split` を用いることができます。\n",
        "また、10進数の文字列を数に変換するには、**`int`** を関数として用いることができます。"
      ]
    },
    {
      "cell_type": "code",
      "execution_count": 21,
      "metadata": {
        "tags": [
          "raises-exception"
        ],
        "colab": {
          "base_uri": "https://localhost:8080/"
        },
        "id": "4bS8DpiTpebv",
        "outputId": "107c85c0-2e0e-4658-9de8-9918bf230919"
      },
      "outputs": [
        {
          "output_type": "execute_result",
          "data": {
            "text/plain": [
              "[123, 45, -3]"
            ]
          },
          "metadata": {},
          "execution_count": 21
        }
      ],
      "source": [
        "str1 = '123,45,-3'\n",
        "[int(x) for x in str1.split(',')]"
      ]
    },
    {
      "cell_type": "markdown",
      "metadata": {
        "id": "c8VaX-Bnpebv"
      },
      "source": [
        "## 練習\n",
        "\n",
        "数のリストが与えらえたとき、リストの要素の分散を求める関数 `var` を\n",
        "内包表記と関数 `sum` を用いて定義してください。\n",
        "以下のセルの `...` のところを書き換えて `var` を作成してください。"
      ]
    },
    {
      "cell_type": "code",
      "execution_count": 25,
      "metadata": {
        "id": "QDzJYx3Ppebv"
      },
      "outputs": [],
      "source": [
        "def var(lst):\n",
        "    ave=sum(lst)/len(lst)\n",
        "    return sum([(x-ave)**2 for x in lst])/len(lst)"
      ]
    },
    {
      "cell_type": "markdown",
      "metadata": {
        "id": "x-dzEmlTpebw"
      },
      "source": [
        "上のセルで解答を作成した後、以下のセルを実行し、実行結果が `True` になることを確認してください。"
      ]
    },
    {
      "cell_type": "code",
      "execution_count": 26,
      "metadata": {
        "tags": [
          "raises-exception"
        ],
        "colab": {
          "base_uri": "https://localhost:8080/"
        },
        "id": "JjxpvdJwpebw",
        "outputId": "b271ea3d-9f6e-4e85-f98c-2aa95f011848"
      },
      "outputs": [
        {
          "output_type": "stream",
          "name": "stdout",
          "text": [
            "True\n"
          ]
        }
      ],
      "source": [
        "print(var([3,4,1,2]) == 1.25)"
      ]
    },
    {
      "cell_type": "markdown",
      "metadata": {
        "id": "yI3CaaBPpebw"
      },
      "source": [
        "## 内包表記の入れ子\n",
        "また内包表記を**入れ子**（**ネスト**）にすることも可能です:"
      ]
    },
    {
      "cell_type": "code",
      "execution_count": 27,
      "metadata": {
        "colab": {
          "base_uri": "https://localhost:8080/"
        },
        "id": "sxSSt6kvpebw",
        "outputId": "d3d36f9b-f596-4989-e762-108eac9be1f7"
      },
      "outputs": [
        {
          "output_type": "execute_result",
          "data": {
            "text/plain": [
              "[[0], [0, 1], [0, 2, 4], [0, 3, 6, 9]]"
            ]
          },
          "metadata": {},
          "execution_count": 27
        }
      ],
      "source": [
        "[[x*y for y in range(x+1)] for x in range(4)]"
      ]
    },
    {
      "cell_type": "markdown",
      "metadata": {
        "id": "rr135Je5pebx"
      },
      "source": [
        "ネストした内包表記は、外側から読むとわかりやすいです。\n",
        "`x` を `0` から `3` まで動かしてリストが作られます。\n",
        "そのリストの要素1つ1つは内包表記によるリストになっていて、\n",
        "それぞれのリストは `y` を 0 から `x` まで動かして得られます。\n",
        "\n",
        "以下のリストは、上の2重のリストをフラットにしたものです。\n",
        "この内包表記では、`for` が2重になっていますが、自然に左から読んでください。\n",
        "`x` を `0` から `3` まで動かし、そのそれぞれに対して `y` を `0` から `x` まで動かします。\n",
        "その各ステップで得られた `x*y` の値をリストにします。"
      ]
    },
    {
      "cell_type": "code",
      "execution_count": 28,
      "metadata": {
        "colab": {
          "base_uri": "https://localhost:8080/"
        },
        "id": "w9XANGZfpebx",
        "outputId": "8cb06d1e-c3b8-468b-efd7-7fb526331aba"
      },
      "outputs": [
        {
          "output_type": "execute_result",
          "data": {
            "text/plain": [
              "[0, 0, 1, 0, 2, 4, 0, 3, 6, 9]"
            ]
          },
          "metadata": {},
          "execution_count": 28
        }
      ],
      "source": [
        "[x*y for x in range(4) for y in range(x+1)]"
      ]
    },
    {
      "cell_type": "markdown",
      "metadata": {
        "id": "o8xwi_IKpebx"
      },
      "source": [
        "以下の関数は、与えられた文字列の全ての空でない部分文字列からなるリストを返します。"
      ]
    },
    {
      "cell_type": "code",
      "execution_count": 29,
      "metadata": {
        "colab": {
          "base_uri": "https://localhost:8080/"
        },
        "id": "s3A5QIz9pebx",
        "outputId": "a9363764-afc2-434f-ba71-27a4cfaf4b21"
      },
      "outputs": [
        {
          "output_type": "execute_result",
          "data": {
            "text/plain": [
              "['a', 'ab', 'abc', 'b', 'bc', 'c']"
            ]
          },
          "metadata": {},
          "execution_count": 29
        }
      ],
      "source": [
        "def allsubstrings(s):\n",
        "    return [s[i:j] for i in range(len(s)) for j in range(i+1,len(s)+1)]\n",
        "\n",
        "allsubstrings('abc')"
      ]
    },
    {
      "cell_type": "markdown",
      "metadata": {
        "id": "4IrktMqdpebx"
      },
      "source": [
        "## 練習\n",
        "\n",
        "次のような関数 `sum_lists` を作成してください。\n",
        "\n",
        "- `sum_lists` はリスト `list1` を引数とします。\n",
        "- `list1` の各要素はリストであり、そのリストの要素は数です。\n",
        "- `sum_lists` は、`list1` の各要素であるリストの総和を求め、それらの総和を足し合せて返します。\n",
        "\n",
        "ここでは、内包表記と関数 `sum` を用いて `sum_lists` を定義してください。\n",
        "以下のセルの `...` のところを書き換えて `sum_lists` を作成してください。"
      ]
    },
    {
      "cell_type": "code",
      "execution_count": 30,
      "metadata": {
        "id": "iX75UBp_peby"
      },
      "outputs": [],
      "source": [
        "def sum_lists(list1):\n",
        "    return(sum([sum(x) for x in list1]))"
      ]
    },
    {
      "cell_type": "markdown",
      "metadata": {
        "id": "UqE9NHhFpeby"
      },
      "source": [
        "上のセルで解答を作成した後、以下のセルを実行し、実行結果が `True` になることを確認してください。"
      ]
    },
    {
      "cell_type": "code",
      "execution_count": 31,
      "metadata": {
        "tags": [
          "raises-exception"
        ],
        "colab": {
          "base_uri": "https://localhost:8080/"
        },
        "id": "y2Jk4mMmpeby",
        "outputId": "1754ef82-c512-4f7c-d431-85e5a1deb2eb"
      },
      "outputs": [
        {
          "output_type": "stream",
          "name": "stdout",
          "text": [
            "True\n"
          ]
        }
      ],
      "source": [
        "print(sum_lists([[20, 5], [6, 16, 14, 5], [16, 8, 16, 17, 14], [1], [5, 3, 5, 7]]) == 158)"
      ]
    },
    {
      "cell_type": "markdown",
      "metadata": {
        "id": "Gj4yd5XDpeby"
      },
      "source": [
        "## 練習\n",
        "\n",
        "リスト `list1` と `list2` が引数として与えられたとき、次のようなリスト `list3` を返す関数 `sum_matrix` を作成してください。\n",
        "\n",
        "- `list1`, `list2`, `list3` は、3つの要素を持ちます。\n",
        "- 各要素は大きさ 3 のリストになっており、そのリストの要素は全て数です。\n",
        "- `list3[i][j]` （ただし、`i` と `j` は共に、0 以上 2 以下の整数）は `list1[i][j]` と `list2[i][j]` の値の和になっています。\n",
        "\n",
        "ここでは、内包表記を用いて`sum_matrix` を定義してください。以下のセルの `...` のところを書き換えて `sum_matrix` を作成してください。"
      ]
    },
    {
      "cell_type": "code",
      "execution_count": 46,
      "metadata": {
        "id": "NWqTf5aapeby"
      },
      "outputs": [],
      "source": [
        "def sum_matrix(list1, list2):\n",
        "    list3 = [[list1[i][j]+list2[i][j] for j in range(3)] for i in range(3)]\n",
        "    return list3"
      ]
    },
    {
      "cell_type": "markdown",
      "metadata": {
        "id": "NoeN112Kpebz"
      },
      "source": [
        "上のセルで解答を作成した後、以下のセルを実行し、実行結果が `True` になることを確認してください。"
      ]
    },
    {
      "cell_type": "code",
      "execution_count": 55,
      "metadata": {
        "tags": [
          "raises-exception"
        ],
        "colab": {
          "base_uri": "https://localhost:8080/"
        },
        "id": "C00t_6Tlpebz",
        "outputId": "08af67b9-f754-4e9d-d286-ede7e2ffe124"
      },
      "outputs": [
        {
          "output_type": "stream",
          "name": "stdout",
          "text": [
            "True\n",
            "[[1, 5, 3], [4, 5, 6], [7, 8, 9]]\n",
            "[]\n"
          ]
        }
      ],
      "source": [
        "print(sum_matrix([[1,5,3],[4,5,6],[7,8,9]], [[1,4,7],[2,5,8],[3,6,9]])==[[2, 9, 10], [6, 10, 14], [10, 14, 18]])\n",
        "\n",
        "list1 = [[1,5,3],[4,5,6],[7,8,9]]\n",
        "list2 = [[1,4,7],[2,5,8],[3,6,9]]\n",
        "\n",
        "print(list1)\n",
        "print(list1[1:1])\n"
      ]
    },
    {
      "cell_type": "markdown",
      "metadata": {
        "id": "zMgH8Zj_pebz"
      },
      "source": [
        "## ▲**条件付き内包表記**\n",
        "\n",
        "内包表記は `for` に加えて `if` を使うこともできます:"
      ]
    },
    {
      "cell_type": "code",
      "execution_count": 56,
      "metadata": {
        "colab": {
          "base_uri": "https://localhost:8080/"
        },
        "id": "gbiaHIjJpeb0",
        "outputId": "cbc87a65-94e1-4d02-fa81-c3fb0d03b0cf"
      },
      "outputs": [
        {
          "output_type": "stream",
          "name": "stdout",
          "text": [
            "[3, 3, 8, 7]\n"
          ]
        }
      ],
      "source": [
        "words = ['cat', 'dog', 'elephant', None, 'giraffe']\n",
        "length = [len(w) for w in words if w != None]\n",
        "print(length)"
      ]
    },
    {
      "cell_type": "markdown",
      "metadata": {
        "id": "1g5uP2uNpeb0"
      },
      "source": [
        "この場合、`length` として要素が `None` の場合を除いた `[3, 3, 8, 7]` が得られます。"
      ]
    },
    {
      "cell_type": "markdown",
      "metadata": {
        "id": "-UhO12rGpeb0"
      },
      "source": [
        "## ▲**セット内包表記**\n",
        "\n",
        "内包表記はセット（集合）に対しても使うことができます:"
      ]
    },
    {
      "cell_type": "code",
      "execution_count": 57,
      "metadata": {
        "colab": {
          "base_uri": "https://localhost:8080/"
        },
        "id": "EUfQsXdUpeb0",
        "outputId": "e90b3b7c-a7bf-4a8f-80de-ce154d25e040"
      },
      "outputs": [
        {
          "output_type": "stream",
          "name": "stdout",
          "text": [
            "{8, 3, 7}\n"
          ]
        }
      ],
      "source": [
        "words = ['cat', 'dog', 'elephant', 'giraffe']\n",
        "length_set = {len(w) for w in words}\n",
        "print(length_set)"
      ]
    },
    {
      "cell_type": "markdown",
      "metadata": {
        "id": "V3QmcCOLpeb0"
      },
      "source": [
        "`length_set` として `{3, 7, 8}` が得られます。\n",
        "セット型なので、リストと異なり重複する要素は除かれます。"
      ]
    },
    {
      "cell_type": "markdown",
      "metadata": {
        "id": "n8oauAerpeb1"
      },
      "source": [
        "## ▲**辞書内包表記**\n",
        "さらに、内包表記は辞書型でも使うことができます。"
      ]
    },
    {
      "cell_type": "code",
      "execution_count": null,
      "metadata": {
        "id": "UzJ7itoapeb1"
      },
      "outputs": [],
      "source": [
        "words = ['cat', 'dog', 'elephant', 'giraffe']\n",
        "length_dic = {w:len(w) for w in words}\n",
        "print(length_dic)"
      ]
    },
    {
      "cell_type": "markdown",
      "metadata": {
        "id": "gu4lA0Yypeb5"
      },
      "source": [
        "`length_dic` として `{'cat': 3, 'dog': 3, 'elephant': 8, 'giraffe': 7}` が得られます。\n",
        "\n",
        "長さと文字列を逆にするとどうなるでしょうか。"
      ]
    },
    {
      "cell_type": "code",
      "execution_count": null,
      "metadata": {
        "id": "7G6Tcitapeb6"
      },
      "outputs": [],
      "source": [
        "length_rdic = {len(w): w for w in words}\n",
        "print(length_rdic)"
      ]
    },
    {
      "cell_type": "markdown",
      "metadata": {
        "id": "nzehWZcKpeb6"
      },
      "source": [
        "## ▲**ジェネレータ式**\n",
        "\n",
        "内包表記と似たものとして、ジェネレータ式というものがあります。\n",
        "リスト内包表記の `[]` を `()` に置き換えれば、ジェネレータ式になります。\n",
        "ジェネレータ式は、4-2で説明した**イテレータ**を構築します。\n",
        "4-2で説明したように、イテレータは、for文で走査（全要素を訪問）できます。"
      ]
    },
    {
      "cell_type": "code",
      "execution_count": null,
      "metadata": {
        "id": "eC2tJuK4peb6"
      },
      "outputs": [],
      "source": [
        "it = (x * 3 for x in 'abc')\n",
        "for x in it:\n",
        "    print(x)"
      ]
    },
    {
      "cell_type": "markdown",
      "metadata": {
        "id": "eRHXarrQpeb6"
      },
      "source": [
        "イテレータを組み込み関数 `list()` や `tuple()` に渡すと、対応するリストやタプルが構築されます。\n",
        "なお、ジェネレータ式を直接引数とするときには、ジェネレータ式の外側の `()` は省略可能です。"
      ]
    },
    {
      "cell_type": "code",
      "execution_count": null,
      "metadata": {
        "id": "L3YUdL7dpeb6"
      },
      "outputs": [],
      "source": [
        "list(x ** 2 for x in range(5))"
      ]
    },
    {
      "cell_type": "code",
      "execution_count": null,
      "metadata": {
        "id": "m2dktjufpeb7"
      },
      "outputs": [],
      "source": [
        "tuple(x ** 2 for x in range(5))"
      ]
    },
    {
      "cell_type": "markdown",
      "metadata": {
        "id": "c45cidx8peb7"
      },
      "source": [
        "総和を計算する組み込み関数 `sum()` など、リストやタプルを引数に取れる大抵の関数には、イテレータも渡せます。"
      ]
    },
    {
      "cell_type": "code",
      "execution_count": null,
      "metadata": {
        "id": "YcgULuAvpeb7"
      },
      "outputs": [],
      "source": [
        "sum(x ** 2 for x in range(5))"
      ]
    },
    {
      "cell_type": "markdown",
      "metadata": {
        "id": "pDvQELk0peb7"
      },
      "source": [
        "上の例において、ジェネレータ式の代わりにリスト内包表記を用いても同じ結果を得ますが、\n",
        "計算の途中で実際にリストを構築するので、メモリ消費が大きいです。\n",
        "ジェネレータ式では、リストのように走査できるイテレータを構築するだけなので、リスト内包表記よりメモリ効率がよいです。\n",
        "したがって、関数に渡すだけの一時オブジェクトには、リスト内包表記ではなくジェネレータ式を用いるのが有効です。"
      ]
    },
    {
      "cell_type": "markdown",
      "metadata": {
        "id": "wFtGe6J6peb7"
      },
      "source": [
        "## 練習の解答"
      ]
    },
    {
      "cell_type": "code",
      "execution_count": null,
      "metadata": {
        "id": "nke8dY8Epeb8"
      },
      "outputs": [],
      "source": [
        "strings = ['The', 'quick', 'brown']\n",
        "[len(x) for x in strings]"
      ]
    },
    {
      "cell_type": "code",
      "execution_count": null,
      "metadata": {
        "id": "dh8C7pZtpeb8"
      },
      "outputs": [],
      "source": [
        "str1 = '123,45,-3'\n",
        "[int(x) for x in str1.split(',')]"
      ]
    },
    {
      "cell_type": "code",
      "execution_count": null,
      "metadata": {
        "id": "FEHQPATMpeb8"
      },
      "outputs": [],
      "source": [
        "def var(lst):\n",
        "    n = len(lst)\n",
        "    av = sum(lst)/n\n",
        "    return sum([(x - av)*(x - av) for x in lst])/n"
      ]
    },
    {
      "cell_type": "code",
      "execution_count": null,
      "metadata": {
        "id": "pLxyrQRCpeb8"
      },
      "outputs": [],
      "source": [
        "def var(lst):\n",
        "    n = len(lst)\n",
        "    av = sum(lst)/n\n",
        "    return sum([x*x for x in lst])/n - av*av"
      ]
    },
    {
      "cell_type": "code",
      "execution_count": null,
      "metadata": {
        "id": "X9jJEZ5lpeb9"
      },
      "outputs": [],
      "source": [
        "def sum_lists(list1):\n",
        "    return sum([sum(lst) for lst in list1])"
      ]
    },
    {
      "cell_type": "code",
      "execution_count": null,
      "metadata": {
        "id": "6CrxQNLrpeb9"
      },
      "outputs": [],
      "source": [
        "def sum_matrix(list1,list2):\n",
        "    return [[list1[i][j] + list2[i][j] for j in range(3)] for i in range(3)]"
      ]
    },
    {
      "cell_type": "code",
      "execution_count": null,
      "metadata": {
        "id": "OWbj0O6Hpeb9"
      },
      "outputs": [],
      "source": []
    }
  ],
  "metadata": {
    "kernelspec": {
      "display_name": "Python 3",
      "language": "python",
      "name": "python3"
    },
    "language_info": {
      "name": "python"
    },
    "colab": {
      "provenance": [],
      "toc_visible": true
    }
  },
  "nbformat": 4,
  "nbformat_minor": 0
}