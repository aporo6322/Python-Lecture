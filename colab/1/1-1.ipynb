{
  "cells": [
    {
      "cell_type": "markdown",
      "metadata": {
        "id": "hXtWlBg2qmqi"
      },
      "source": [
        "# 1-1. 数値演算\n",
        "数値演算について説明します。\n",
        "\n",
        "参考\n",
        "\n",
        "- https://docs.python.org/ja/3/tutorial/introduction.html#using-python-as-a-calculator\n",
        "- https://docs.python.org/ja/3/tutorial/modules.html\n",
        "- https://docs.python.org/ja/3/library/numeric.html\n",
        "- https://docs.python.org/ja/3/library/math.html"
      ]
    },
    {
      "cell_type": "markdown",
      "metadata": {
        "id": "U3Z_YWv0qmqo"
      },
      "source": [
        "## 簡単な算術計算\n",
        "\n",
        "CodeセルにPythonの式を入力して、プレイボタンを押すか、\n",
        "Shiftを押しながらEnterを押すと、式が評価され、その結果の値がセルの下に挿入されます。\n",
        "\n",
        "1+1 の計算をしてみましょう。次のセルに `1+1` と入力して、\n",
        "Shiftを押しながらEnterを押してください。"
      ]
    },
    {
      "cell_type": "code",
      "execution_count": 1,
      "metadata": {
        "id": "SxpIbKSZqmqq",
        "outputId": "5536c551-6930-4453-8709-28ab281f6886",
        "colab": {
          "base_uri": "https://localhost:8080/"
        }
      },
      "outputs": [
        {
          "output_type": "execute_result",
          "data": {
            "text/plain": [
              "2"
            ]
          },
          "metadata": {},
          "execution_count": 1
        }
      ],
      "source": [
        "1+1"
      ]
    },
    {
      "cell_type": "markdown",
      "metadata": {
        "id": "jF7RWAmxqmqq"
      },
      "source": [
        "このようにして、電卓の代わりにPythonを使うことができます。**`+`** は言うまでもなく**足し算**を表しています。"
      ]
    },
    {
      "cell_type": "code",
      "execution_count": null,
      "metadata": {
        "id": "yX48uTjmqmqr"
      },
      "outputs": [],
      "source": [
        "7-2"
      ]
    },
    {
      "cell_type": "code",
      "execution_count": null,
      "metadata": {
        "id": "Oc_FOfY5qmqt"
      },
      "outputs": [],
      "source": [
        "7*2"
      ]
    },
    {
      "cell_type": "code",
      "execution_count": null,
      "metadata": {
        "id": "fHHw9RP6qmqu"
      },
      "outputs": [],
      "source": [
        "7**2"
      ]
    },
    {
      "cell_type": "markdown",
      "metadata": {
        "id": "Tr5Xnedvqmqv"
      },
      "source": [
        "**`-`** は**引き算**、**`*`** は**掛け算**、**`**`** は**べき乗**を表しています。\n",
        "\n",
        "式を適当に書き換えてから、Shiftを押しながらEnterを押すと、\n",
        "書き換えた後の式が評価されて、セルの下の値はその結果で置き換わります。\n",
        "たとえば、上の `2` を `100` に書き換えて、7の100乗を求めてみてください。"
      ]
    },
    {
      "cell_type": "markdown",
      "metadata": {
        "id": "vkrYuEOcqmqw"
      },
      "source": [
        "割り算はどうなるでしょうか。"
      ]
    },
    {
      "cell_type": "code",
      "execution_count": null,
      "metadata": {
        "id": "S5yGdHywqmqx"
      },
      "outputs": [],
      "source": [
        "7/2"
      ]
    },
    {
      "cell_type": "code",
      "execution_count": null,
      "metadata": {
        "id": "lvcNl3OKqmqx"
      },
      "outputs": [],
      "source": [
        "7//2"
      ]
    },
    {
      "cell_type": "markdown",
      "metadata": {
        "id": "19FVgzNBqmqx"
      },
      "source": [
        "Pythonでは、**割り算**（**除算**）は **`/`** で表され、**整数除算**は **`//`** で表されます。\n",
        "`//` は小数部を切り捨てた整数値（**商**）を返します。\n",
        "\n",
        "整数同士の `//` の結果は整数になります。"
      ]
    },
    {
      "cell_type": "code",
      "execution_count": null,
      "metadata": {
        "id": "yR6ApkZsqmqy"
      },
      "outputs": [],
      "source": [
        "7/1"
      ]
    },
    {
      "cell_type": "code",
      "execution_count": null,
      "metadata": {
        "id": "S2gSbCGPqmqy"
      },
      "outputs": [],
      "source": [
        "7//1"
      ]
    },
    {
      "cell_type": "markdown",
      "metadata": {
        "id": "bDB-ZhKlqmqz"
      },
      "source": [
        "整数除算の**余り**（**剰余**）を求めたいときは、別の演算子 **`%`** を用います。\n",
        "\n",
        "整数同士の `%` の結果は整数になります。"
      ]
    },
    {
      "cell_type": "code",
      "execution_count": null,
      "metadata": {
        "id": "LXxdd4Jrqmqz"
      },
      "outputs": [],
      "source": [
        "7%2"
      ]
    },
    {
      "cell_type": "markdown",
      "metadata": {
        "id": "NjCQAgKWqmqz"
      },
      "source": [
        "## コメント\n",
        "Pythonでは一般に、コードの中に **`#`** が出現すると、それ以降、その行の終わりまでが**コメント**になります。\n",
        "コメントは行頭からも、行の途中からでも始めることができます。\n",
        "\n",
        "プログラムの実行時には、コメントは無視されます。"
      ]
    },
    {
      "cell_type": "code",
      "execution_count": null,
      "metadata": {
        "id": "xQYCUnJdqmq0"
      },
      "outputs": [],
      "source": [
        "# このように行頭に '#' をおけば、行全体をコメントとすることができます。\n",
        "\n",
        "# 次のようにコード行に続けて直前のコードについての説明をコメントとして書くこともできます。\n",
        "2**10  # 2の10乗を計算します"
      ]
    },
    {
      "cell_type": "code",
      "execution_count": null,
      "metadata": {
        "id": "jwVk0ffAqmq0"
      },
      "outputs": [],
      "source": [
        "# 次のようにコード行自体をコメントとすることで、その行を無視させる（コメントアウトする）こともよく行われます。\n",
        "# 2**10  # 2の10乗を計算します この行が「コメントアウト」された\n",
        "2**12  # 実は計算したいのは2の12乗でした"
      ]
    },
    {
      "cell_type": "markdown",
      "metadata": {
        "id": "LfolgRuLqmq1"
      },
      "source": [
        "## 整数と実数\n",
        "Pythonでは、**整数**と小数点のある数（**実数**）は、数学的に同じ数を表す場合でも、\n",
        "コンピュータの中で異なる形式で記憶されますので、表示は異なります。\n",
        "（実数は**浮動小数点数**ともいいます。）"
      ]
    },
    {
      "cell_type": "code",
      "execution_count": null,
      "metadata": {
        "id": "BTOtan-hqmq1"
      },
      "outputs": [],
      "source": [
        "7/1"
      ]
    },
    {
      "cell_type": "code",
      "execution_count": null,
      "metadata": {
        "id": "nsXIdxH-qmq1"
      },
      "outputs": [],
      "source": [
        "7//1"
      ]
    },
    {
      "cell_type": "markdown",
      "metadata": {
        "id": "gnsL_cIxqmq1"
      },
      "source": [
        "しかし、以下のように、比較を行うと両者は等しいものとして扱われます。\n",
        "値同士が等しいかどうかを調べる `==` という演算子については、後で紹介します。"
      ]
    },
    {
      "cell_type": "code",
      "execution_count": null,
      "metadata": {
        "id": "BwIoEh3Mqmq2"
      },
      "outputs": [],
      "source": [
        "7/1 == 7//1"
      ]
    },
    {
      "cell_type": "markdown",
      "metadata": {
        "id": "pPQ-s5I9qmq2"
      },
      "source": [
        "`+` と `-` と `*` と `//` と `%` と `**` では、2つの数が整数ならば結果も整数になります。\n",
        "2つの数が実数であったり、整数と実数が混ざっていたら、結果は実数になります。"
      ]
    },
    {
      "cell_type": "code",
      "execution_count": null,
      "metadata": {
        "id": "XyQAoUwUqmq2"
      },
      "outputs": [],
      "source": [
        "2+5"
      ]
    },
    {
      "cell_type": "code",
      "execution_count": null,
      "metadata": {
        "id": "QNvDgs37qmq2"
      },
      "outputs": [],
      "source": [
        "2+5.0"
      ]
    },
    {
      "cell_type": "markdown",
      "metadata": {
        "id": "P1euiVZzqmq2"
      },
      "source": [
        "`/` の結果は必ず実数となります。"
      ]
    },
    {
      "cell_type": "code",
      "execution_count": null,
      "metadata": {
        "id": "y-cmCrsTqmq3"
      },
      "outputs": [],
      "source": [
        "7/1"
      ]
    },
    {
      "cell_type": "markdown",
      "metadata": {
        "id": "X146rJcdqmq3"
      },
      "source": [
        "ここで、自分で色々と式を入力してみてください。\n",
        "以下に、いくつかセルを用意しておきます。\n",
        "足りなければ、Insertメニューを使ってセルを追加することができます。"
      ]
    },
    {
      "cell_type": "code",
      "execution_count": null,
      "metadata": {
        "id": "1yBHcXL7qmq3"
      },
      "outputs": [],
      "source": []
    },
    {
      "cell_type": "code",
      "execution_count": null,
      "metadata": {
        "id": "-SNJimJTqmq3"
      },
      "outputs": [],
      "source": []
    },
    {
      "cell_type": "code",
      "execution_count": null,
      "metadata": {
        "id": "t2npb9oQqmq3"
      },
      "outputs": [],
      "source": []
    },
    {
      "cell_type": "markdown",
      "metadata": {
        "id": "saYvEbL2qmq4"
      },
      "source": [
        "### 実数のべき表示"
      ]
    },
    {
      "cell_type": "code",
      "execution_count": null,
      "metadata": {
        "id": "7J5M8EARqmq4"
      },
      "outputs": [],
      "source": [
        "2.0**1000"
      ]
    },
    {
      "cell_type": "markdown",
      "metadata": {
        "id": "d31dy4Unqmq4"
      },
      "source": [
        "非常に大きな実数は、10のべきとともに表示（**べき表示**）されます。\n",
        "`e+301` は10の301乗を意味します。"
      ]
    },
    {
      "cell_type": "code",
      "execution_count": null,
      "metadata": {
        "id": "xeJMlRafqmq5"
      },
      "outputs": [],
      "source": [
        "2.0**-1000"
      ]
    },
    {
      "cell_type": "markdown",
      "metadata": {
        "id": "y8CQ2Qrvqmq5"
      },
      "source": [
        "非常に小さな実数も、10のべきとともに表示されます。\n",
        "`e-302` は10の-302乗を意味します。"
      ]
    },
    {
      "cell_type": "markdown",
      "metadata": {
        "id": "cvxANsrXqmq5"
      },
      "source": [
        "### いくらでも大きくなる整数"
      ]
    },
    {
      "cell_type": "code",
      "execution_count": null,
      "metadata": {
        "id": "4tj4dgQyqmq-"
      },
      "outputs": [],
      "source": [
        "2**1000"
      ]
    },
    {
      "cell_type": "markdown",
      "metadata": {
        "id": "QKJ6Erkxqmq-"
      },
      "source": [
        "このように、Pythonでは整数はいくらでも大きくなります。\n",
        "もちろん、コンピュータのメモリに納まる限りにおいてですが。"
      ]
    },
    {
      "cell_type": "code",
      "execution_count": null,
      "metadata": {
        "id": "FqQTo8jUqmq_"
      },
      "outputs": [],
      "source": [
        "2**2**2**2**2"
      ]
    },
    {
      "cell_type": "markdown",
      "metadata": {
        "id": "OjulbySgqmq_"
      },
      "source": [
        "### 整数と実数の間の変換\n",
        "\n",
        "実数を整数に変換するには、**`int`** という関数を用います。\n",
        "（関数に関する一般的な説明は1-2を参照してください。）\n",
        "`int(x)` は、実数 `x` を（`0` の方向に）切り下げた結果を返します。"
      ]
    },
    {
      "cell_type": "code",
      "execution_count": null,
      "metadata": {
        "id": "q2LJYwQWqmq_"
      },
      "outputs": [],
      "source": [
        "int(2.9)"
      ]
    },
    {
      "cell_type": "code",
      "execution_count": null,
      "metadata": {
        "id": "9vl95YZeqmq_"
      },
      "outputs": [],
      "source": [
        "int(-2.9)"
      ]
    },
    {
      "cell_type": "markdown",
      "metadata": {
        "id": "1VweI6opqmrA"
      },
      "source": [
        "逆に、整数を実数に変換するには、**`float`** という関数を用います。\n",
        "`float(i)` は、整数 `i` を実数に変換した結果を返します。\n",
        "たとえば `i+0.0` としても、`i` を実数に変換できます。"
      ]
    },
    {
      "cell_type": "code",
      "execution_count": null,
      "metadata": {
        "id": "C1gumaO1qmrA"
      },
      "outputs": [],
      "source": [
        "float(2)"
      ]
    },
    {
      "cell_type": "code",
      "execution_count": null,
      "metadata": {
        "id": "onDVn1zOqmrA"
      },
      "outputs": [],
      "source": [
        "2+0.0"
      ]
    },
    {
      "cell_type": "markdown",
      "metadata": {
        "id": "W6O3CaP9qmrA"
      },
      "source": [
        "### 数値誤差\n",
        "\n",
        "浮動小数点数には、**数値誤差**が不可避です。\n",
        "これは、有限のビット数で、無限に小さくなり得る小数刻みを表現しようとするためです。\n",
        "（参照：[Wikipedia - 浮動小数点数](https://ja.wikipedia.org/wiki/%E6%B5%AE%E5%8B%95%E5%B0%8F%E6%95%B0%E7%82%B9%E6%95%B0#%E3%82%A8%E3%83%A9%E3%83%BC%EF%BC%88%E8%AA%A4%E5%B7%AE%EF%BC%89)）\n",
        "\n",
        "Pythonでは、整数は無限桁で表現されるため、整数演算には誤差が生じません。\n",
        "しかし、整数を実数に変換したときには、一般に誤差が生じます。"
      ]
    },
    {
      "cell_type": "code",
      "execution_count": null,
      "metadata": {
        "id": "FjOI75TUqmrB"
      },
      "outputs": [],
      "source": [
        "10**60"
      ]
    },
    {
      "cell_type": "code",
      "execution_count": null,
      "metadata": {
        "id": "Jx15naOWqmrB"
      },
      "outputs": [],
      "source": [
        "float(10**60)"
      ]
    },
    {
      "cell_type": "code",
      "execution_count": null,
      "metadata": {
        "id": "ZwbyCoKcqmrB"
      },
      "outputs": [],
      "source": [
        "int(float(10**60))"
      ]
    },
    {
      "cell_type": "markdown",
      "metadata": {
        "id": "ySLn2nIKqmrB"
      },
      "source": [
        "数え上げのような離散的な値を扱う時には、実数を経由せずに、整数のみで演算するようにしましょう。"
      ]
    },
    {
      "cell_type": "markdown",
      "metadata": {
        "id": "PBScdftBqmrC"
      },
      "source": [
        "## 演算子の優先順位と括弧\n",
        "掛け算や割り算は足し算や引き算よりも先に評価されます。\n",
        "すなわち、掛け算や割り算の方が足し算や引き算よりも**優先順位**が高いと定義されています。\n",
        "\n",
        "**括弧**を使って式の評価順序を指定することができます。\n",
        "\n",
        "なお、数式 $a(b-c)$、$(a-b)(c-d)$ は、それぞれ $a$ と $b-c$、$a-b$ と $c-d$ の積を意味しますが、\n",
        "コードでは、`a*(b-c)` や `(a-b)*(c-d)` のように積の演算子である `*` を明記する必要があることに注意してください。\n",
        "\n",
        "また、数や演算子の間には、自由に空白を入れることができます。（後でもう一度説明します。）"
      ]
    },
    {
      "cell_type": "code",
      "execution_count": null,
      "metadata": {
        "id": "rwX4PtaoqmrC"
      },
      "outputs": [],
      "source": [
        "7 - 2 * 3"
      ]
    },
    {
      "cell_type": "code",
      "execution_count": null,
      "metadata": {
        "id": "2-mtzZHlqmrD"
      },
      "outputs": [],
      "source": [
        "(7 - 2) * 3"
      ]
    },
    {
      "cell_type": "code",
      "execution_count": null,
      "metadata": {
        "id": "nNXv7sp5qmrD"
      },
      "outputs": [],
      "source": [
        "17 - 17//3*3"
      ]
    },
    {
      "cell_type": "code",
      "execution_count": null,
      "metadata": {
        "id": "w2ZKViLBqmrD"
      },
      "outputs": [],
      "source": [
        "56 ** 4 ** 2"
      ]
    },
    {
      "cell_type": "code",
      "execution_count": null,
      "metadata": {
        "id": "I0XQHAacqmrE"
      },
      "outputs": [],
      "source": [
        "56 ** 16"
      ]
    },
    {
      "cell_type": "markdown",
      "metadata": {
        "id": "-AXOqIyOqmrE"
      },
      "source": [
        "上の例では、`4**2` が先に評価されて、`56**16` が計算されます。\n",
        "つまり、`x**y**z` = `x**(y**z)` が成り立ちます。\n",
        "このことをもって、`**` は右に結合するといいます。"
      ]
    },
    {
      "cell_type": "code",
      "execution_count": null,
      "metadata": {
        "id": "Sf3dBRcxqmrE"
      },
      "outputs": [],
      "source": [
        "16/8/2"
      ]
    },
    {
      "cell_type": "code",
      "execution_count": null,
      "metadata": {
        "id": "VK8yr-otqmrF"
      },
      "outputs": [],
      "source": [
        "(16/8)/2"
      ]
    },
    {
      "cell_type": "markdown",
      "metadata": {
        "id": "RCO-aoT0qmrF"
      },
      "source": [
        "上の例では、`16/8` が先に評価されて、`2/2` が計算されます。\n",
        "つまり、`x/y/z` = `(x/y)/z` が成り立ちます。\n",
        "このことをもって、`/` は左に結合するといいます。"
      ]
    },
    {
      "cell_type": "markdown",
      "metadata": {
        "id": "0KxhzgjfqmrF"
      },
      "source": [
        "`*` と `/` をまぜても左に結合します。"
      ]
    },
    {
      "cell_type": "code",
      "execution_count": null,
      "metadata": {
        "id": "VCnviYHOqmrF"
      },
      "outputs": [],
      "source": [
        "10/2*3"
      ]
    },
    {
      "cell_type": "markdown",
      "metadata": {
        "id": "PoLl8FoJqmrG"
      },
      "source": [
        "以上のように、演算子によって式の評価の順番がかわりますので注意してください。\n",
        "\n",
        "ではまた、自分で色々と式を入力してみてください。\n",
        "以下に、いくつかセルを用意しておきます。"
      ]
    },
    {
      "cell_type": "code",
      "execution_count": null,
      "metadata": {
        "id": "0QnJjlflqmrG"
      },
      "outputs": [],
      "source": []
    },
    {
      "cell_type": "code",
      "execution_count": null,
      "metadata": {
        "id": "t_oQZhwmqmrG"
      },
      "outputs": [],
      "source": []
    },
    {
      "cell_type": "code",
      "execution_count": null,
      "metadata": {
        "id": "nwwyWuLoqmrG"
      },
      "outputs": [],
      "source": []
    },
    {
      "cell_type": "markdown",
      "metadata": {
        "id": "oLbfWXHuqmrG"
      },
      "source": [
        "### 単項の `+` と `-`"
      ]
    },
    {
      "cell_type": "markdown",
      "metadata": {
        "id": "q9Bc0Pa4qmrH"
      },
      "source": [
        "**`+`** と **`-`** は、単項の演算子（**単項演算子**）としても使えます。\n",
        "（これらの演算子の後に1つだけ数が書かれます。\n",
        "前と後の両方に数が書かれる演算子は**2項演算子**と言います。）"
      ]
    },
    {
      "cell_type": "code",
      "execution_count": null,
      "metadata": {
        "id": "LVdwTFDyqmrH"
      },
      "outputs": [],
      "source": [
        "-3"
      ]
    },
    {
      "cell_type": "code",
      "execution_count": null,
      "metadata": {
        "id": "puIRHMd8qmrH"
      },
      "outputs": [],
      "source": [
        "+3"
      ]
    },
    {
      "cell_type": "markdown",
      "metadata": {
        "id": "QJ7DrRYVqmrH"
      },
      "source": [
        "## 算術演算子のまとめ\n",
        "\n",
        "算術演算子を、評価の優先順位にしたがって、すなわち結合力の強い順にまとめておきましょう。\n",
        "\n",
        "まず、2項のべき演算子 `**` が最も強く結合します。\n",
        "`**` は右の方から計算され、このことを「右に結合する」と表します。\n",
        "\n",
        "次に、単項の `+` と `-` が強く結合します。\n",
        "なお、 `**` の右側に単項の `+` や `-` がある場合は、`+` と `-` がより強く結合します。\n",
        "例えば、 `-10 ** 2` では `**` がより強く結合し `-100` となり、 `10 ** -2` では `-` がより強く結合し `0.01` となります。\n",
        "\n",
        "その次に、2項の `*` と `/` と `//` と `%` が強く結合します。これらは左に結合します。\n",
        "\n",
        "最後に、2項の `+` と `-` は最も弱く結合します。これらも左に結合します。"
      ]
    },
    {
      "cell_type": "markdown",
      "metadata": {
        "id": "8Y2fuGZ7qmrI"
      },
      "source": [
        "## 空白\n",
        "既に `7 - 2 * 3` のような例が出てきましたが、\n",
        "演算子と数の間や、演算子と変数（後述）の間には、空白を入れることができます。\n",
        "ここで**空白**とは、**半角の空白**のことで、英数字と同様に1バイトの文字コードに含まれているものです。\n",
        "\n",
        "複数の文字から成る演算子、たとえば `**` や `//` の間に空白を入れることはできません。\n",
        "エラーになることでしょう。"
      ]
    },
    {
      "cell_type": "code",
      "execution_count": null,
      "metadata": {
        "id": "9DL1fp-VqmrI"
      },
      "outputs": [],
      "source": [
        "7 **2"
      ]
    },
    {
      "cell_type": "code",
      "execution_count": null,
      "metadata": {
        "tags": [
          "raises-exception"
        ],
        "id": "KFOYXhjZqmrI"
      },
      "outputs": [],
      "source": [
        "7* *2"
      ]
    },
    {
      "cell_type": "markdown",
      "metadata": {
        "id": "JGm3UT8rqmrJ"
      },
      "source": [
        "### 全角の空白\n",
        "日本語文字コードである***全角の空白***は、空白とはみなされませんので注意してください。"
      ]
    },
    {
      "cell_type": "code",
      "execution_count": null,
      "metadata": {
        "tags": [
          "raises-exception"
        ],
        "id": "kHqCMMuJqmrK"
      },
      "outputs": [],
      "source": [
        "7　**2"
      ]
    },
    {
      "cell_type": "markdown",
      "metadata": {
        "id": "6avica31qmrK"
      },
      "source": [
        "## エラー\n",
        "色々と試していると、**エラー**が起こることもあったでしょう。\n",
        "以下は典型的なエラーです。"
      ]
    },
    {
      "cell_type": "code",
      "execution_count": null,
      "metadata": {
        "tags": [
          "raises-exception"
        ],
        "id": "T3JCvFiYqmrK"
      },
      "outputs": [],
      "source": [
        "10/0"
      ]
    },
    {
      "cell_type": "markdown",
      "metadata": {
        "id": "tOfBHGauqmrK"
      },
      "source": [
        "このエラーは、ゼロによる割り算を行ったためです。\n",
        "**実行時エラー**の典型的なものです。\n",
        "\n",
        "エラーが起こった場合は、修正して評価し直すことができます。\n",
        "上の例で、0 をたとえば 3 に書き換えて評価し直してみてください。"
      ]
    },
    {
      "cell_type": "code",
      "execution_count": null,
      "metadata": {
        "tags": [
          "raises-exception"
        ],
        "id": "lYcgjcCbqmrK"
      },
      "outputs": [],
      "source": [
        "10/"
      ]
    },
    {
      "cell_type": "markdown",
      "metadata": {
        "id": "AD5E3LO7qmrL"
      },
      "source": [
        "こちらのエラーは**構文エラー**です。\n",
        "つまり、入力がPythonの構文に違反しているため実行できなかったのです。"
      ]
    },
    {
      "cell_type": "markdown",
      "metadata": {
        "id": "6LEuHL5YqmrL"
      },
      "source": [
        "## 数学関数（モジュールのインポート）"
      ]
    },
    {
      "cell_type": "code",
      "execution_count": null,
      "metadata": {
        "id": "QQvZKiqiqmrL"
      },
      "outputs": [],
      "source": [
        "import math"
      ]
    },
    {
      "cell_type": "code",
      "execution_count": null,
      "metadata": {
        "id": "FL99_Jv8qmrL"
      },
      "outputs": [],
      "source": [
        "math.sqrt(2)"
      ]
    },
    {
      "cell_type": "markdown",
      "metadata": {
        "id": "g2JDaiX8qmrM"
      },
      "source": [
        "数学関係の各種の関数は、**モジュール**（**ライブラリ**）として提供されています。\n",
        "これらの関数を使いたいときは、上のように、**`import`** で始まる\n",
        "`import math` というおまじないを一度唱えます。\n",
        "そうしますと、**`math`** というライブラリが読み込まれて（**インポート**されて）、\n",
        "`math.関数名` という形で関数を用いることができます。\n",
        "上の例では、平方根を計算する **`math.sqrt`** という関数が用いられています。"
      ]
    },
    {
      "cell_type": "markdown",
      "metadata": {
        "id": "C1u_ebwSqmrM"
      },
      "source": [
        "もう少し例をあげておきましょう。sinとcosは **`math.sin`** と **`math.cos`** で求まります。"
      ]
    },
    {
      "cell_type": "code",
      "execution_count": null,
      "metadata": {
        "id": "9P5lj-OeqmrM"
      },
      "outputs": [],
      "source": [
        "math.sin(0)"
      ]
    },
    {
      "cell_type": "code",
      "execution_count": null,
      "metadata": {
        "id": "ASlcgTdvqmrN"
      },
      "outputs": [],
      "source": [
        "math.pi"
      ]
    },
    {
      "cell_type": "markdown",
      "metadata": {
        "id": "hoV1GphgqmrN"
      },
      "source": [
        "**`math.pi`** は、円周率を値とする変数です。\n",
        "\n",
        "変数については後に説明されます。"
      ]
    },
    {
      "cell_type": "code",
      "execution_count": null,
      "metadata": {
        "id": "CbpatF6YqmrN"
      },
      "outputs": [],
      "source": [
        "math.sin(math.pi)"
      ]
    },
    {
      "cell_type": "markdown",
      "metadata": {
        "id": "Y7Z-msVaqmrN"
      },
      "source": [
        "この結果は本当は 0 にならなければならないのですが、\n",
        "数値誤差のためにこのようになっています。"
      ]
    },
    {
      "cell_type": "code",
      "execution_count": null,
      "metadata": {
        "id": "U9AYNDODqmrO"
      },
      "outputs": [],
      "source": [
        "math.sin(math.pi/2)"
      ]
    },
    {
      "cell_type": "code",
      "execution_count": null,
      "metadata": {
        "id": "uC3VnebYqmrO"
      },
      "outputs": [],
      "source": [
        "math.sin(math.pi/4) * 2"
      ]
    },
    {
      "cell_type": "markdown",
      "metadata": {
        "id": "AWYv-v_IqmrO"
      },
      "source": [
        "## 練習"
      ]
    },
    {
      "cell_type": "markdown",
      "metadata": {
        "id": "9TuXXHqrqmrO"
      },
      "source": [
        "黄金比を求めてください。黄金比とは、5 の平方根に 1 を加えて 2 で割ったものです。約 1.618 になるはずです。"
      ]
    },
    {
      "cell_type": "code",
      "execution_count": null,
      "metadata": {
        "id": "5sZtwMl0qmrO"
      },
      "outputs": [],
      "source": []
    }
  ],
  "metadata": {
    "kernelspec": {
      "display_name": "Python 3 (ipykernel)",
      "language": "python",
      "name": "python3"
    },
    "language_info": {
      "codemirror_mode": {
        "name": "ipython",
        "version": 3
      },
      "file_extension": ".py",
      "mimetype": "text/x-python",
      "name": "python",
      "nbconvert_exporter": "python",
      "pygments_lexer": "ipython3",
      "version": "3.12.4"
    },
    "colab": {
      "provenance": []
    }
  },
  "nbformat": 4,
  "nbformat_minor": 0
}