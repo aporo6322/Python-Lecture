{
  "cells": [
    {
      "cell_type": "markdown",
      "metadata": {
        "id": "hXtWlBg2qmqi"
      },
      "source": [
        "# 1-1. 数値演算\n",
        "数値演算について説明します。\n",
        "\n",
        "参考\n",
        "\n",
        "- https://docs.python.org/ja/3/tutorial/introduction.html#using-python-as-a-calculator\n",
        "- https://docs.python.org/ja/3/tutorial/modules.html\n",
        "- https://docs.python.org/ja/3/library/numeric.html\n",
        "- https://docs.python.org/ja/3/library/math.html"
      ]
    },
    {
      "cell_type": "markdown",
      "metadata": {
        "id": "U3Z_YWv0qmqo"
      },
      "source": [
        "## 簡単な算術計算\n",
        "\n",
        "CodeセルにPythonの式を入力して、プレイボタンを押すか、\n",
        "Shiftを押しながらEnterを押すと、式が評価され、その結果の値がセルの下に挿入されます。\n",
        "\n",
        "1+1 の計算をしてみましょう。次のセルに `1+1` と入力して、\n",
        "Shiftを押しながらEnterを押してください。"
      ]
    },
    {
      "cell_type": "code",
      "execution_count": 1,
      "metadata": {
        "colab": {
          "base_uri": "https://localhost:8080/"
        },
        "id": "SxpIbKSZqmqq",
        "outputId": "5536c551-6930-4453-8709-28ab281f6886"
      },
      "outputs": [
        {
          "output_type": "execute_result",
          "data": {
            "text/plain": [
              "2"
            ]
          },
          "metadata": {},
          "execution_count": 1
        }
      ],
      "source": [
        "1+1"
      ]
    },
    {
      "cell_type": "markdown",
      "metadata": {
        "id": "jF7RWAmxqmqq"
      },
      "source": [
        "このようにして、電卓の代わりにPythonを使うことができます。**`+`** は言うまでもなく**足し算**を表しています。"
      ]
    },
    {
      "cell_type": "code",
      "execution_count": 2,
      "metadata": {
        "colab": {
          "base_uri": "https://localhost:8080/"
        },
        "id": "yX48uTjmqmqr",
        "outputId": "8ec06155-f89b-440d-9d89-61ae18a1440d"
      },
      "outputs": [
        {
          "output_type": "execute_result",
          "data": {
            "text/plain": [
              "5"
            ]
          },
          "metadata": {},
          "execution_count": 2
        }
      ],
      "source": [
        "7-2"
      ]
    },
    {
      "cell_type": "code",
      "execution_count": 3,
      "metadata": {
        "colab": {
          "base_uri": "https://localhost:8080/"
        },
        "id": "Oc_FOfY5qmqt",
        "outputId": "0be54082-7df7-43a2-d72b-f87c4e970b95"
      },
      "outputs": [
        {
          "output_type": "execute_result",
          "data": {
            "text/plain": [
              "14"
            ]
          },
          "metadata": {},
          "execution_count": 3
        }
      ],
      "source": [
        "7*2"
      ]
    },
    {
      "cell_type": "code",
      "execution_count": 8,
      "metadata": {
        "colab": {
          "base_uri": "https://localhost:8080/"
        },
        "id": "fHHw9RP6qmqu",
        "outputId": "c5b3e86b-f532-4bbf-ab0a-c00c31ccc658"
      },
      "outputs": [
        {
          "output_type": "execute_result",
          "data": {
            "text/plain": [
              "3234476509624757991344647769100216810857203198904625400933895331391691459636928060001"
            ]
          },
          "metadata": {},
          "execution_count": 8
        }
      ],
      "source": [
        "7**100"
      ]
    },
    {
      "cell_type": "markdown",
      "metadata": {
        "id": "Tr5Xnedvqmqv"
      },
      "source": [
        "**`-`** は**引き算**、**`*`** は**掛け算**、**`**`** は**べき乗**を表しています。\n",
        "\n",
        "式を適当に書き換えてから、Shiftを押しながらEnterを押すと、\n",
        "書き換えた後の式が評価されて、セルの下の値はその結果で置き換わります。\n",
        "たとえば、上の `2` を `100` に書き換えて、7の100乗を求めてみてください。"
      ]
    },
    {
      "cell_type": "markdown",
      "metadata": {
        "id": "vkrYuEOcqmqw"
      },
      "source": [
        "割り算はどうなるでしょうか。"
      ]
    },
    {
      "cell_type": "code",
      "execution_count": 5,
      "metadata": {
        "colab": {
          "base_uri": "https://localhost:8080/"
        },
        "id": "S5yGdHywqmqx",
        "outputId": "dcd8d06f-46f0-4cbf-ae3f-502940a5d70b"
      },
      "outputs": [
        {
          "output_type": "execute_result",
          "data": {
            "text/plain": [
              "3.5"
            ]
          },
          "metadata": {},
          "execution_count": 5
        }
      ],
      "source": [
        "7/2"
      ]
    },
    {
      "cell_type": "code",
      "execution_count": 6,
      "metadata": {
        "colab": {
          "base_uri": "https://localhost:8080/"
        },
        "id": "lvcNl3OKqmqx",
        "outputId": "36196d0e-311d-4c44-bd96-4a6b1eb9f5d5"
      },
      "outputs": [
        {
          "output_type": "execute_result",
          "data": {
            "text/plain": [
              "3"
            ]
          },
          "metadata": {},
          "execution_count": 6
        }
      ],
      "source": [
        "7//2"
      ]
    },
    {
      "cell_type": "markdown",
      "metadata": {
        "id": "19FVgzNBqmqx"
      },
      "source": [
        "Pythonでは、**割り算**（**除算**）は **`/`** で表され、**整数除算**は **`//`** で表されます。\n",
        "`//` は小数部を切り捨てた整数値（**商**）を返します。\n",
        "\n",
        "整数同士の `//` の結果は整数になります。"
      ]
    },
    {
      "cell_type": "code",
      "execution_count": 7,
      "metadata": {
        "colab": {
          "base_uri": "https://localhost:8080/"
        },
        "id": "yR6ApkZsqmqy",
        "outputId": "c86fbda8-4503-40f7-f172-ae123743ba4e"
      },
      "outputs": [
        {
          "output_type": "execute_result",
          "data": {
            "text/plain": [
              "7.0"
            ]
          },
          "metadata": {},
          "execution_count": 7
        }
      ],
      "source": [
        "7/1"
      ]
    },
    {
      "cell_type": "code",
      "execution_count": 9,
      "metadata": {
        "colab": {
          "base_uri": "https://localhost:8080/"
        },
        "id": "S2gSbCGPqmqy",
        "outputId": "0d5cd592-bb1b-43c2-e4f9-d183a4bd1a0e"
      },
      "outputs": [
        {
          "output_type": "execute_result",
          "data": {
            "text/plain": [
              "7"
            ]
          },
          "metadata": {},
          "execution_count": 9
        }
      ],
      "source": [
        "7//1"
      ]
    },
    {
      "cell_type": "markdown",
      "metadata": {
        "id": "bDB-ZhKlqmqz"
      },
      "source": [
        "整数除算の**余り**（**剰余**）を求めたいときは、別の演算子 **`%`** を用います。\n",
        "\n",
        "整数同士の `%` の結果は整数になります。"
      ]
    },
    {
      "cell_type": "code",
      "execution_count": 10,
      "metadata": {
        "colab": {
          "base_uri": "https://localhost:8080/"
        },
        "id": "LXxdd4Jrqmqz",
        "outputId": "c3c99d8a-b626-4e2a-b6c3-9e9031a46a37"
      },
      "outputs": [
        {
          "output_type": "execute_result",
          "data": {
            "text/plain": [
              "1"
            ]
          },
          "metadata": {},
          "execution_count": 10
        }
      ],
      "source": [
        "7%2"
      ]
    },
    {
      "cell_type": "markdown",
      "metadata": {
        "id": "NjCQAgKWqmqz"
      },
      "source": [
        "## コメント\n",
        "Pythonでは一般に、コードの中に **`#`** が出現すると、それ以降、その行の終わりまでが**コメント**になります。\n",
        "コメントは行頭からも、行の途中からでも始めることができます。\n",
        "\n",
        "プログラムの実行時には、コメントは無視されます。"
      ]
    },
    {
      "cell_type": "code",
      "execution_count": null,
      "metadata": {
        "id": "xQYCUnJdqmq0"
      },
      "outputs": [],
      "source": [
        "# このように行頭に '#' をおけば、行全体をコメントとすることができます。\n",
        "\n",
        "# 次のようにコード行に続けて直前のコードについての説明をコメントとして書くこともできます。\n",
        "2**10  # 2の10乗を計算します"
      ]
    },
    {
      "cell_type": "code",
      "execution_count": null,
      "metadata": {
        "id": "jwVk0ffAqmq0"
      },
      "outputs": [],
      "source": [
        "# 次のようにコード行自体をコメントとすることで、その行を無視させる（コメントアウトする）こともよく行われます。\n",
        "# 2**10  # 2の10乗を計算します この行が「コメントアウト」された\n",
        "2**12  # 実は計算したいのは2の12乗でした"
      ]
    },
    {
      "cell_type": "markdown",
      "metadata": {
        "id": "LfolgRuLqmq1"
      },
      "source": [
        "## 整数と実数\n",
        "Pythonでは、**整数**と小数点のある数（**実数**）は、数学的に同じ数を表す場合でも、\n",
        "コンピュータの中で異なる形式で記憶されますので、表示は異なります。\n",
        "（実数は**浮動小数点数**ともいいます。）"
      ]
    },
    {
      "cell_type": "code",
      "execution_count": 11,
      "metadata": {
        "colab": {
          "base_uri": "https://localhost:8080/"
        },
        "id": "BTOtan-hqmq1",
        "outputId": "aa048dcb-56ca-4a71-b448-8a28df28ed99"
      },
      "outputs": [
        {
          "output_type": "execute_result",
          "data": {
            "text/plain": [
              "7.0"
            ]
          },
          "metadata": {},
          "execution_count": 11
        }
      ],
      "source": [
        "7/1"
      ]
    },
    {
      "cell_type": "code",
      "execution_count": 12,
      "metadata": {
        "colab": {
          "base_uri": "https://localhost:8080/"
        },
        "id": "nsXIdxH-qmq1",
        "outputId": "c793c094-8308-4b7e-c440-2c52a12d17b6"
      },
      "outputs": [
        {
          "output_type": "execute_result",
          "data": {
            "text/plain": [
              "7"
            ]
          },
          "metadata": {},
          "execution_count": 12
        }
      ],
      "source": [
        "7//1"
      ]
    },
    {
      "cell_type": "markdown",
      "metadata": {
        "id": "gnsL_cIxqmq1"
      },
      "source": [
        "しかし、以下のように、比較を行うと両者は等しいものとして扱われます。\n",
        "値同士が等しいかどうかを調べる `==` という演算子については、後で紹介します。"
      ]
    },
    {
      "cell_type": "code",
      "execution_count": 13,
      "metadata": {
        "colab": {
          "base_uri": "https://localhost:8080/"
        },
        "id": "BwIoEh3Mqmq2",
        "outputId": "6d1e1d73-3eed-4509-f01a-4d226cd6a604"
      },
      "outputs": [
        {
          "output_type": "execute_result",
          "data": {
            "text/plain": [
              "True"
            ]
          },
          "metadata": {},
          "execution_count": 13
        }
      ],
      "source": [
        "7/1 == 7//1"
      ]
    },
    {
      "cell_type": "markdown",
      "metadata": {
        "id": "pPQ-s5I9qmq2"
      },
      "source": [
        "`+` と `-` と `*` と `//` と `%` と `**` では、2つの数が整数ならば結果も整数になります。\n",
        "2つの数が実数であったり、整数と実数が混ざっていたら、結果は実数になります。"
      ]
    },
    {
      "cell_type": "code",
      "execution_count": 14,
      "metadata": {
        "colab": {
          "base_uri": "https://localhost:8080/"
        },
        "id": "XyQAoUwUqmq2",
        "outputId": "7cc2d956-e9d1-4b40-bb9c-11f06d56eaa2"
      },
      "outputs": [
        {
          "output_type": "execute_result",
          "data": {
            "text/plain": [
              "7"
            ]
          },
          "metadata": {},
          "execution_count": 14
        }
      ],
      "source": [
        "2+5"
      ]
    },
    {
      "cell_type": "code",
      "execution_count": 15,
      "metadata": {
        "colab": {
          "base_uri": "https://localhost:8080/"
        },
        "id": "QNvDgs37qmq2",
        "outputId": "e8fceafd-2831-4881-cfcf-832fa6b237cf"
      },
      "outputs": [
        {
          "output_type": "execute_result",
          "data": {
            "text/plain": [
              "7.0"
            ]
          },
          "metadata": {},
          "execution_count": 15
        }
      ],
      "source": [
        "2+5.0"
      ]
    },
    {
      "cell_type": "markdown",
      "metadata": {
        "id": "P1euiVZzqmq2"
      },
      "source": [
        "`/` の結果は必ず実数となります。"
      ]
    },
    {
      "cell_type": "code",
      "execution_count": null,
      "metadata": {
        "id": "y-cmCrsTqmq3"
      },
      "outputs": [],
      "source": [
        "7/1"
      ]
    },
    {
      "cell_type": "markdown",
      "metadata": {
        "id": "X146rJcdqmq3"
      },
      "source": [
        "ここで、自分で色々と式を入力してみてください。\n",
        "以下に、いくつかセルを用意しておきます。\n",
        "足りなければ、Insertメニューを使ってセルを追加することができます。"
      ]
    },
    {
      "cell_type": "code",
      "execution_count": null,
      "metadata": {
        "id": "1yBHcXL7qmq3"
      },
      "outputs": [],
      "source": []
    },
    {
      "cell_type": "code",
      "execution_count": null,
      "metadata": {
        "id": "-SNJimJTqmq3"
      },
      "outputs": [],
      "source": []
    },
    {
      "cell_type": "code",
      "execution_count": null,
      "metadata": {
        "id": "t2npb9oQqmq3"
      },
      "outputs": [],
      "source": []
    },
    {
      "cell_type": "markdown",
      "metadata": {
        "id": "saYvEbL2qmq4"
      },
      "source": [
        "### 実数のべき表示"
      ]
    },
    {
      "cell_type": "code",
      "execution_count": 16,
      "metadata": {
        "colab": {
          "base_uri": "https://localhost:8080/"
        },
        "id": "7J5M8EARqmq4",
        "outputId": "be3c6764-04c0-47d1-9511-e556b9166967"
      },
      "outputs": [
        {
          "output_type": "execute_result",
          "data": {
            "text/plain": [
              "1.0715086071862673e+301"
            ]
          },
          "metadata": {},
          "execution_count": 16
        }
      ],
      "source": [
        "2.0**1000"
      ]
    },
    {
      "cell_type": "markdown",
      "metadata": {
        "id": "d31dy4Unqmq4"
      },
      "source": [
        "非常に大きな実数は、10のべきとともに表示（**べき表示**）されます。\n",
        "`e+301` は10の301乗を意味します。"
      ]
    },
    {
      "cell_type": "code",
      "execution_count": 17,
      "metadata": {
        "colab": {
          "base_uri": "https://localhost:8080/"
        },
        "id": "xeJMlRafqmq5",
        "outputId": "50bcdbc9-5829-4e85-bfff-68dbb8907511"
      },
      "outputs": [
        {
          "output_type": "execute_result",
          "data": {
            "text/plain": [
              "9.332636185032189e-302"
            ]
          },
          "metadata": {},
          "execution_count": 17
        }
      ],
      "source": [
        "2.0**-1000"
      ]
    },
    {
      "cell_type": "markdown",
      "metadata": {
        "id": "y8CQ2Qrvqmq5"
      },
      "source": [
        "非常に小さな実数も、10のべきとともに表示されます。\n",
        "`e-302` は10の-302乗を意味します。"
      ]
    },
    {
      "cell_type": "markdown",
      "metadata": {
        "id": "cvxANsrXqmq5"
      },
      "source": [
        "### いくらでも大きくなる整数"
      ]
    },
    {
      "cell_type": "code",
      "execution_count": 18,
      "metadata": {
        "colab": {
          "base_uri": "https://localhost:8080/"
        },
        "id": "4tj4dgQyqmq-",
        "outputId": "0246dcee-891b-43a8-ce4a-7a55cc22ff26"
      },
      "outputs": [
        {
          "output_type": "execute_result",
          "data": {
            "text/plain": [
              "10715086071862673209484250490600018105614048117055336074437503883703510511249361224931983788156958581275946729175531468251871452856923140435984577574698574803934567774824230985421074605062371141877954182153046474983581941267398767559165543946077062914571196477686542167660429831652624386837205668069376"
            ]
          },
          "metadata": {},
          "execution_count": 18
        }
      ],
      "source": [
        "2**1000"
      ]
    },
    {
      "cell_type": "markdown",
      "metadata": {
        "id": "QKJ6Erkxqmq-"
      },
      "source": [
        "このように、Pythonでは整数はいくらでも大きくなります。\n",
        "もちろん、コンピュータのメモリに納まる限りにおいてですが。"
      ]
    },
    {
      "cell_type": "code",
      "execution_count": 19,
      "metadata": {
        "colab": {
          "base_uri": "https://localhost:8080/",
          "height": 373
        },
        "id": "FqQTo8jUqmq_",
        "outputId": "98ac1dc3-f35e-4526-900b-093245540990"
      },
      "outputs": [
        {
          "output_type": "error",
          "ename": "ValueError",
          "evalue": "Exceeds the limit (4300 digits) for integer string conversion; use sys.set_int_max_str_digits() to increase the limit",
          "traceback": [
            "\u001b[0;31m---------------------------------------------------------------------------\u001b[0m",
            "\u001b[0;31mValueError\u001b[0m                                Traceback (most recent call last)",
            "\u001b[0;32m/usr/local/lib/python3.11/dist-packages/IPython/core/formatters.py\u001b[0m in \u001b[0;36m__call__\u001b[0;34m(self, obj)\u001b[0m\n\u001b[1;32m    700\u001b[0m                 \u001b[0mtype_pprinters\u001b[0m\u001b[0;34m=\u001b[0m\u001b[0mself\u001b[0m\u001b[0;34m.\u001b[0m\u001b[0mtype_printers\u001b[0m\u001b[0;34m,\u001b[0m\u001b[0;34m\u001b[0m\u001b[0;34m\u001b[0m\u001b[0m\n\u001b[1;32m    701\u001b[0m                 deferred_pprinters=self.deferred_printers)\n\u001b[0;32m--> 702\u001b[0;31m             \u001b[0mprinter\u001b[0m\u001b[0;34m.\u001b[0m\u001b[0mpretty\u001b[0m\u001b[0;34m(\u001b[0m\u001b[0mobj\u001b[0m\u001b[0;34m)\u001b[0m\u001b[0;34m\u001b[0m\u001b[0;34m\u001b[0m\u001b[0m\n\u001b[0m\u001b[1;32m    703\u001b[0m             \u001b[0mprinter\u001b[0m\u001b[0;34m.\u001b[0m\u001b[0mflush\u001b[0m\u001b[0;34m(\u001b[0m\u001b[0;34m)\u001b[0m\u001b[0;34m\u001b[0m\u001b[0;34m\u001b[0m\u001b[0m\n\u001b[1;32m    704\u001b[0m             \u001b[0;32mreturn\u001b[0m \u001b[0mstream\u001b[0m\u001b[0;34m.\u001b[0m\u001b[0mgetvalue\u001b[0m\u001b[0;34m(\u001b[0m\u001b[0;34m)\u001b[0m\u001b[0;34m\u001b[0m\u001b[0;34m\u001b[0m\u001b[0m\n",
            "\u001b[0;32m/usr/local/lib/python3.11/dist-packages/IPython/lib/pretty.py\u001b[0m in \u001b[0;36mpretty\u001b[0;34m(self, obj)\u001b[0m\n\u001b[1;32m    375\u001b[0m                 \u001b[0;32mif\u001b[0m \u001b[0mcls\u001b[0m \u001b[0;32min\u001b[0m \u001b[0mself\u001b[0m\u001b[0;34m.\u001b[0m\u001b[0mtype_pprinters\u001b[0m\u001b[0;34m:\u001b[0m\u001b[0;34m\u001b[0m\u001b[0;34m\u001b[0m\u001b[0m\n\u001b[1;32m    376\u001b[0m                     \u001b[0;31m# printer registered in self.type_pprinters\u001b[0m\u001b[0;34m\u001b[0m\u001b[0;34m\u001b[0m\u001b[0m\n\u001b[0;32m--> 377\u001b[0;31m                     \u001b[0;32mreturn\u001b[0m \u001b[0mself\u001b[0m\u001b[0;34m.\u001b[0m\u001b[0mtype_pprinters\u001b[0m\u001b[0;34m[\u001b[0m\u001b[0mcls\u001b[0m\u001b[0;34m]\u001b[0m\u001b[0;34m(\u001b[0m\u001b[0mobj\u001b[0m\u001b[0;34m,\u001b[0m \u001b[0mself\u001b[0m\u001b[0;34m,\u001b[0m \u001b[0mcycle\u001b[0m\u001b[0;34m)\u001b[0m\u001b[0;34m\u001b[0m\u001b[0;34m\u001b[0m\u001b[0m\n\u001b[0m\u001b[1;32m    378\u001b[0m                 \u001b[0;32melse\u001b[0m\u001b[0;34m:\u001b[0m\u001b[0;34m\u001b[0m\u001b[0;34m\u001b[0m\u001b[0m\n\u001b[1;32m    379\u001b[0m                     \u001b[0;31m# deferred printer\u001b[0m\u001b[0;34m\u001b[0m\u001b[0;34m\u001b[0m\u001b[0m\n",
            "\u001b[0;32m/usr/local/lib/python3.11/dist-packages/IPython/lib/pretty.py\u001b[0m in \u001b[0;36m_repr_pprint\u001b[0;34m(obj, p, cycle)\u001b[0m\n\u001b[1;32m    698\u001b[0m     \u001b[0;34m\"\"\"A pprint that just redirects to the normal repr function.\"\"\"\u001b[0m\u001b[0;34m\u001b[0m\u001b[0;34m\u001b[0m\u001b[0m\n\u001b[1;32m    699\u001b[0m     \u001b[0;31m# Find newlines and replace them with p.break_()\u001b[0m\u001b[0;34m\u001b[0m\u001b[0;34m\u001b[0m\u001b[0m\n\u001b[0;32m--> 700\u001b[0;31m     \u001b[0moutput\u001b[0m \u001b[0;34m=\u001b[0m \u001b[0mrepr\u001b[0m\u001b[0;34m(\u001b[0m\u001b[0mobj\u001b[0m\u001b[0;34m)\u001b[0m\u001b[0;34m\u001b[0m\u001b[0;34m\u001b[0m\u001b[0m\n\u001b[0m\u001b[1;32m    701\u001b[0m     \u001b[0mlines\u001b[0m \u001b[0;34m=\u001b[0m \u001b[0moutput\u001b[0m\u001b[0;34m.\u001b[0m\u001b[0msplitlines\u001b[0m\u001b[0;34m(\u001b[0m\u001b[0;34m)\u001b[0m\u001b[0;34m\u001b[0m\u001b[0;34m\u001b[0m\u001b[0m\n\u001b[1;32m    702\u001b[0m     \u001b[0;32mwith\u001b[0m \u001b[0mp\u001b[0m\u001b[0;34m.\u001b[0m\u001b[0mgroup\u001b[0m\u001b[0;34m(\u001b[0m\u001b[0;34m)\u001b[0m\u001b[0;34m:\u001b[0m\u001b[0;34m\u001b[0m\u001b[0;34m\u001b[0m\u001b[0m\n",
            "\u001b[0;31mValueError\u001b[0m: Exceeds the limit (4300 digits) for integer string conversion; use sys.set_int_max_str_digits() to increase the limit"
          ]
        }
      ],
      "source": [
        "2**2**2**2**2"
      ]
    },
    {
      "cell_type": "markdown",
      "metadata": {
        "id": "OjulbySgqmq_"
      },
      "source": [
        "### 整数と実数の間の変換\n",
        "\n",
        "実数を整数に変換するには、**`int`** という関数を用います。\n",
        "（関数に関する一般的な説明は1-2を参照してください。）\n",
        "`int(x)` は、実数 `x` を（`0` の方向に）切り下げた結果を返します。"
      ]
    },
    {
      "cell_type": "code",
      "execution_count": 20,
      "metadata": {
        "colab": {
          "base_uri": "https://localhost:8080/"
        },
        "id": "q2LJYwQWqmq_",
        "outputId": "09d21db7-9839-42f8-aa2a-d7cc3beaad21"
      },
      "outputs": [
        {
          "output_type": "execute_result",
          "data": {
            "text/plain": [
              "2"
            ]
          },
          "metadata": {},
          "execution_count": 20
        }
      ],
      "source": [
        "int(2.9)"
      ]
    },
    {
      "cell_type": "code",
      "execution_count": 21,
      "metadata": {
        "colab": {
          "base_uri": "https://localhost:8080/"
        },
        "id": "9vl95YZeqmq_",
        "outputId": "d1b57240-3006-4426-e452-0fa1a6596c10"
      },
      "outputs": [
        {
          "output_type": "execute_result",
          "data": {
            "text/plain": [
              "-2"
            ]
          },
          "metadata": {},
          "execution_count": 21
        }
      ],
      "source": [
        "int(-2.9)"
      ]
    },
    {
      "cell_type": "markdown",
      "metadata": {
        "id": "1VweI6opqmrA"
      },
      "source": [
        "逆に、整数を実数に変換するには、**`float`** という関数を用います。\n",
        "`float(i)` は、整数 `i` を実数に変換した結果を返します。\n",
        "たとえば `i+0.0` としても、`i` を実数に変換できます。"
      ]
    },
    {
      "cell_type": "code",
      "execution_count": 22,
      "metadata": {
        "colab": {
          "base_uri": "https://localhost:8080/"
        },
        "id": "C1gumaO1qmrA",
        "outputId": "40085241-a281-4155-9ce7-97b351be3e71"
      },
      "outputs": [
        {
          "output_type": "execute_result",
          "data": {
            "text/plain": [
              "2.0"
            ]
          },
          "metadata": {},
          "execution_count": 22
        }
      ],
      "source": [
        "float(2)"
      ]
    },
    {
      "cell_type": "code",
      "execution_count": 23,
      "metadata": {
        "colab": {
          "base_uri": "https://localhost:8080/"
        },
        "id": "onDVn1zOqmrA",
        "outputId": "2c5c00eb-5451-45e3-d224-75ee43b203f8"
      },
      "outputs": [
        {
          "output_type": "execute_result",
          "data": {
            "text/plain": [
              "2.0"
            ]
          },
          "metadata": {},
          "execution_count": 23
        }
      ],
      "source": [
        "2+0.0"
      ]
    },
    {
      "cell_type": "markdown",
      "metadata": {
        "id": "W6O3CaP9qmrA"
      },
      "source": [
        "### 数値誤差\n",
        "\n",
        "浮動小数点数には、**数値誤差**が不可避です。\n",
        "これは、有限のビット数で、無限に小さくなり得る小数刻みを表現しようとするためです。\n",
        "（参照：[Wikipedia - 浮動小数点数](https://ja.wikipedia.org/wiki/%E6%B5%AE%E5%8B%95%E5%B0%8F%E6%95%B0%E7%82%B9%E6%95%B0#%E3%82%A8%E3%83%A9%E3%83%BC%EF%BC%88%E8%AA%A4%E5%B7%AE%EF%BC%89)）\n",
        "\n",
        "Pythonでは、整数は無限桁で表現されるため、整数演算には誤差が生じません。\n",
        "しかし、整数を実数に変換したときには、一般に誤差が生じます。"
      ]
    },
    {
      "cell_type": "code",
      "execution_count": 24,
      "metadata": {
        "colab": {
          "base_uri": "https://localhost:8080/"
        },
        "id": "FjOI75TUqmrB",
        "outputId": "2071eca7-373b-45f7-8a88-600f5bc41e5a"
      },
      "outputs": [
        {
          "output_type": "execute_result",
          "data": {
            "text/plain": [
              "1000000000000000000000000000000000000000000000000000000000000"
            ]
          },
          "metadata": {},
          "execution_count": 24
        }
      ],
      "source": [
        "10**60"
      ]
    },
    {
      "cell_type": "code",
      "execution_count": 26,
      "metadata": {
        "colab": {
          "base_uri": "https://localhost:8080/"
        },
        "id": "Jx15naOWqmrB",
        "outputId": "ea2ee11f-ef26-4089-bcb2-54ab3f9d8ed7"
      },
      "outputs": [
        {
          "output_type": "execute_result",
          "data": {
            "text/plain": [
              "1e+60"
            ]
          },
          "metadata": {},
          "execution_count": 26
        }
      ],
      "source": [
        "float(10**60)"
      ]
    },
    {
      "cell_type": "code",
      "execution_count": 25,
      "metadata": {
        "colab": {
          "base_uri": "https://localhost:8080/"
        },
        "id": "ZwbyCoKcqmrB",
        "outputId": "cad47309-7577-4c8e-efd2-f883e47f8c72"
      },
      "outputs": [
        {
          "output_type": "execute_result",
          "data": {
            "text/plain": [
              "999999999999999949387135297074018866963645011013410073083904"
            ]
          },
          "metadata": {},
          "execution_count": 25
        }
      ],
      "source": [
        "int(float(10**60))"
      ]
    },
    {
      "cell_type": "markdown",
      "metadata": {
        "id": "ySLn2nIKqmrB"
      },
      "source": [
        "数え上げのような離散的な値を扱う時には、実数を経由せずに、整数のみで演算するようにしましょう。"
      ]
    },
    {
      "cell_type": "markdown",
      "metadata": {
        "id": "PBScdftBqmrC"
      },
      "source": [
        "## 演算子の優先順位と括弧\n",
        "掛け算や割り算は足し算や引き算よりも先に評価されます。\n",
        "すなわち、掛け算や割り算の方が足し算や引き算よりも**優先順位**が高いと定義されています。\n",
        "\n",
        "**括弧**を使って式の評価順序を指定することができます。\n",
        "\n",
        "なお、数式 $a(b-c)$、$(a-b)(c-d)$ は、それぞれ $a$ と $b-c$、$a-b$ と $c-d$ の積を意味しますが、\n",
        "コードでは、`a*(b-c)` や `(a-b)*(c-d)` のように積の演算子である `*` を明記する必要があることに注意してください。\n",
        "\n",
        "また、数や演算子の間には、自由に空白を入れることができます。（後でもう一度説明します。）"
      ]
    },
    {
      "cell_type": "code",
      "execution_count": 27,
      "metadata": {
        "colab": {
          "base_uri": "https://localhost:8080/"
        },
        "id": "rwX4PtaoqmrC",
        "outputId": "01e05a34-b34c-47b0-81d3-865ac167d7bc"
      },
      "outputs": [
        {
          "output_type": "execute_result",
          "data": {
            "text/plain": [
              "1"
            ]
          },
          "metadata": {},
          "execution_count": 27
        }
      ],
      "source": [
        "7 - 2 * 3"
      ]
    },
    {
      "cell_type": "code",
      "execution_count": 28,
      "metadata": {
        "colab": {
          "base_uri": "https://localhost:8080/"
        },
        "id": "2-mtzZHlqmrD",
        "outputId": "fb2a4fc2-2a32-417b-ff9e-9c2adf01f5cf"
      },
      "outputs": [
        {
          "output_type": "execute_result",
          "data": {
            "text/plain": [
              "15"
            ]
          },
          "metadata": {},
          "execution_count": 28
        }
      ],
      "source": [
        "(7 - 2) * 3"
      ]
    },
    {
      "cell_type": "code",
      "execution_count": null,
      "metadata": {
        "id": "nNXv7sp5qmrD"
      },
      "outputs": [],
      "source": [
        "17 - 17//3*3"
      ]
    },
    {
      "cell_type": "code",
      "execution_count": null,
      "metadata": {
        "id": "w2ZKViLBqmrD"
      },
      "outputs": [],
      "source": [
        "56 ** 4 ** 2"
      ]
    },
    {
      "cell_type": "code",
      "execution_count": 29,
      "metadata": {
        "colab": {
          "base_uri": "https://localhost:8080/"
        },
        "id": "I0XQHAacqmrE",
        "outputId": "bd002dba-070d-410c-f9e4-088d90cc8967"
      },
      "outputs": [
        {
          "output_type": "execute_result",
          "data": {
            "text/plain": [
              "9354238358105289311446368256"
            ]
          },
          "metadata": {},
          "execution_count": 29
        }
      ],
      "source": [
        "56 ** 16"
      ]
    },
    {
      "cell_type": "markdown",
      "metadata": {
        "id": "-AXOqIyOqmrE"
      },
      "source": [
        "上の例では、`4**2` が先に評価されて、`56**16` が計算されます。\n",
        "つまり、`x**y**z` = `x**(y**z)` が成り立ちます。\n",
        "このことをもって、`**` は右に結合するといいます。"
      ]
    },
    {
      "cell_type": "code",
      "execution_count": null,
      "metadata": {
        "id": "Sf3dBRcxqmrE"
      },
      "outputs": [],
      "source": [
        "16/8/2"
      ]
    },
    {
      "cell_type": "code",
      "execution_count": null,
      "metadata": {
        "id": "VK8yr-otqmrF"
      },
      "outputs": [],
      "source": [
        "(16/8)/2"
      ]
    },
    {
      "cell_type": "markdown",
      "metadata": {
        "id": "RCO-aoT0qmrF"
      },
      "source": [
        "上の例では、`16/8` が先に評価されて、`2/2` が計算されます。\n",
        "つまり、`x/y/z` = `(x/y)/z` が成り立ちます。\n",
        "このことをもって、`/` は左に結合するといいます。"
      ]
    },
    {
      "cell_type": "markdown",
      "metadata": {
        "id": "0KxhzgjfqmrF"
      },
      "source": [
        "`*` と `/` をまぜても左に結合します。"
      ]
    },
    {
      "cell_type": "code",
      "execution_count": 30,
      "metadata": {
        "colab": {
          "base_uri": "https://localhost:8080/"
        },
        "id": "VCnviYHOqmrF",
        "outputId": "35f3d983-d98b-439c-ba45-31825af73904"
      },
      "outputs": [
        {
          "output_type": "execute_result",
          "data": {
            "text/plain": [
              "15.0"
            ]
          },
          "metadata": {},
          "execution_count": 30
        }
      ],
      "source": [
        "10/2*3"
      ]
    },
    {
      "cell_type": "markdown",
      "metadata": {
        "id": "PoLl8FoJqmrG"
      },
      "source": [
        "以上のように、演算子によって式の評価の順番がかわりますので注意してください。\n",
        "\n",
        "ではまた、自分で色々と式を入力してみてください。\n",
        "以下に、いくつかセルを用意しておきます。"
      ]
    },
    {
      "cell_type": "code",
      "execution_count": null,
      "metadata": {
        "id": "0QnJjlflqmrG"
      },
      "outputs": [],
      "source": []
    },
    {
      "cell_type": "code",
      "execution_count": null,
      "metadata": {
        "id": "t_oQZhwmqmrG"
      },
      "outputs": [],
      "source": []
    },
    {
      "cell_type": "code",
      "execution_count": null,
      "metadata": {
        "id": "nwwyWuLoqmrG"
      },
      "outputs": [],
      "source": []
    },
    {
      "cell_type": "markdown",
      "metadata": {
        "id": "oLbfWXHuqmrG"
      },
      "source": [
        "### 単項の `+` と `-`"
      ]
    },
    {
      "cell_type": "markdown",
      "metadata": {
        "id": "q9Bc0Pa4qmrH"
      },
      "source": [
        "**`+`** と **`-`** は、単項の演算子（**単項演算子**）としても使えます。\n",
        "（これらの演算子の後に1つだけ数が書かれます。\n",
        "前と後の両方に数が書かれる演算子は**2項演算子**と言います。）"
      ]
    },
    {
      "cell_type": "code",
      "execution_count": null,
      "metadata": {
        "id": "LVdwTFDyqmrH"
      },
      "outputs": [],
      "source": [
        "-3"
      ]
    },
    {
      "cell_type": "code",
      "execution_count": null,
      "metadata": {
        "id": "puIRHMd8qmrH"
      },
      "outputs": [],
      "source": [
        "+3"
      ]
    },
    {
      "cell_type": "markdown",
      "metadata": {
        "id": "QJ7DrRYVqmrH"
      },
      "source": [
        "## 算術演算子のまとめ\n",
        "\n",
        "算術演算子を、評価の優先順位にしたがって、すなわち結合力の強い順にまとめておきましょう。\n",
        "\n",
        "まず、2項のべき演算子 `**` が最も強く結合します。\n",
        "`**` は右の方から計算され、このことを「右に結合する」と表します。\n",
        "\n",
        "次に、単項の `+` と `-` が強く結合します。\n",
        "なお、 `**` の右側に単項の `+` や `-` がある場合は、`+` と `-` がより強く結合します。\n",
        "例えば、 `-10 ** 2` では `**` がより強く結合し `-100` となり、 `10 ** -2` では `-` がより強く結合し `0.01` となります。\n",
        "\n",
        "その次に、2項の `*` と `/` と `//` と `%` が強く結合します。これらは左に結合します。\n",
        "\n",
        "最後に、2項の `+` と `-` は最も弱く結合します。これらも左に結合します。"
      ]
    },
    {
      "cell_type": "markdown",
      "metadata": {
        "id": "8Y2fuGZ7qmrI"
      },
      "source": [
        "## 空白\n",
        "既に `7 - 2 * 3` のような例が出てきましたが、\n",
        "演算子と数の間や、演算子と変数（後述）の間には、空白を入れることができます。\n",
        "ここで**空白**とは、**半角の空白**のことで、英数字と同様に1バイトの文字コードに含まれているものです。\n",
        "\n",
        "複数の文字から成る演算子、たとえば `**` や `//` の間に空白を入れることはできません。\n",
        "エラーになることでしょう。"
      ]
    },
    {
      "cell_type": "code",
      "execution_count": 31,
      "metadata": {
        "colab": {
          "base_uri": "https://localhost:8080/"
        },
        "id": "9DL1fp-VqmrI",
        "outputId": "68a40467-c855-42c1-e040-2aaf82d4e46c"
      },
      "outputs": [
        {
          "output_type": "execute_result",
          "data": {
            "text/plain": [
              "49"
            ]
          },
          "metadata": {},
          "execution_count": 31
        }
      ],
      "source": [
        "7 **2"
      ]
    },
    {
      "cell_type": "code",
      "execution_count": 32,
      "metadata": {
        "tags": [
          "raises-exception"
        ],
        "colab": {
          "base_uri": "https://localhost:8080/",
          "height": 110
        },
        "id": "KFOYXhjZqmrI",
        "outputId": "f275b654-928c-430d-86a1-4b99dab8b67e"
      },
      "outputs": [
        {
          "output_type": "error",
          "ename": "SyntaxError",
          "evalue": "invalid syntax (<ipython-input-32-925474765>, line 1)",
          "traceback": [
            "\u001b[0;36m  File \u001b[0;32m\"<ipython-input-32-925474765>\"\u001b[0;36m, line \u001b[0;32m1\u001b[0m\n\u001b[0;31m    7* *2\u001b[0m\n\u001b[0m       ^\u001b[0m\n\u001b[0;31mSyntaxError\u001b[0m\u001b[0;31m:\u001b[0m invalid syntax\n"
          ]
        }
      ],
      "source": [
        "7* *2"
      ]
    },
    {
      "cell_type": "markdown",
      "metadata": {
        "id": "JGm3UT8rqmrJ"
      },
      "source": [
        "### 全角の空白\n",
        "日本語文字コードである***全角の空白***は、空白とはみなされませんので注意してください。"
      ]
    },
    {
      "cell_type": "code",
      "execution_count": 33,
      "metadata": {
        "tags": [
          "raises-exception"
        ],
        "colab": {
          "base_uri": "https://localhost:8080/",
          "height": 110
        },
        "id": "kHqCMMuJqmrK",
        "outputId": "fcc5d2ae-4347-45ac-e85c-216481a4c4cd"
      },
      "outputs": [
        {
          "output_type": "error",
          "ename": "SyntaxError",
          "evalue": "invalid non-printable character U+3000 (<ipython-input-33-511804230>, line 1)",
          "traceback": [
            "\u001b[0;36m  File \u001b[0;32m\"<ipython-input-33-511804230>\"\u001b[0;36m, line \u001b[0;32m1\u001b[0m\n\u001b[0;31m    7　**2\u001b[0m\n\u001b[0m     ^\u001b[0m\n\u001b[0;31mSyntaxError\u001b[0m\u001b[0;31m:\u001b[0m invalid non-printable character U+3000\n"
          ]
        }
      ],
      "source": [
        "7　**2"
      ]
    },
    {
      "cell_type": "markdown",
      "metadata": {
        "id": "6avica31qmrK"
      },
      "source": [
        "## エラー\n",
        "色々と試していると、**エラー**が起こることもあったでしょう。\n",
        "以下は典型的なエラーです。"
      ]
    },
    {
      "cell_type": "code",
      "execution_count": 34,
      "metadata": {
        "tags": [
          "raises-exception"
        ],
        "colab": {
          "base_uri": "https://localhost:8080/",
          "height": 147
        },
        "id": "T3JCvFiYqmrK",
        "outputId": "657270cb-729b-455d-e08e-28fcb1d9cda3"
      },
      "outputs": [
        {
          "output_type": "error",
          "ename": "ZeroDivisionError",
          "evalue": "division by zero",
          "traceback": [
            "\u001b[0;31m---------------------------------------------------------------------------\u001b[0m",
            "\u001b[0;31mZeroDivisionError\u001b[0m                         Traceback (most recent call last)",
            "\u001b[0;32m<ipython-input-34-530406163>\u001b[0m in \u001b[0;36m<cell line: 0>\u001b[0;34m()\u001b[0m\n\u001b[0;32m----> 1\u001b[0;31m \u001b[0;36m10\u001b[0m\u001b[0;34m/\u001b[0m\u001b[0;36m0\u001b[0m\u001b[0;34m\u001b[0m\u001b[0;34m\u001b[0m\u001b[0m\n\u001b[0m",
            "\u001b[0;31mZeroDivisionError\u001b[0m: division by zero"
          ]
        }
      ],
      "source": [
        "10/0"
      ]
    },
    {
      "cell_type": "markdown",
      "metadata": {
        "id": "tOfBHGauqmrK"
      },
      "source": [
        "このエラーは、ゼロによる割り算を行ったためです。\n",
        "**実行時エラー**の典型的なものです。\n",
        "\n",
        "エラーが起こった場合は、修正して評価し直すことができます。\n",
        "上の例で、0 をたとえば 3 に書き換えて評価し直してみてください。"
      ]
    },
    {
      "cell_type": "code",
      "execution_count": 35,
      "metadata": {
        "tags": [
          "raises-exception"
        ],
        "colab": {
          "base_uri": "https://localhost:8080/",
          "height": 110
        },
        "id": "lYcgjcCbqmrK",
        "outputId": "c4d0e0a2-d1f2-46da-d438-725bf14ee62c"
      },
      "outputs": [
        {
          "output_type": "error",
          "ename": "SyntaxError",
          "evalue": "invalid syntax (<ipython-input-35-92394027>, line 1)",
          "traceback": [
            "\u001b[0;36m  File \u001b[0;32m\"<ipython-input-35-92394027>\"\u001b[0;36m, line \u001b[0;32m1\u001b[0m\n\u001b[0;31m    10/\u001b[0m\n\u001b[0m       ^\u001b[0m\n\u001b[0;31mSyntaxError\u001b[0m\u001b[0;31m:\u001b[0m invalid syntax\n"
          ]
        }
      ],
      "source": [
        "10/"
      ]
    },
    {
      "cell_type": "markdown",
      "metadata": {
        "id": "AD5E3LO7qmrL"
      },
      "source": [
        "こちらのエラーは**構文エラー**です。\n",
        "つまり、入力がPythonの構文に違反しているため実行できなかったのです。"
      ]
    },
    {
      "cell_type": "markdown",
      "metadata": {
        "id": "6LEuHL5YqmrL"
      },
      "source": [
        "## 数学関数（モジュールのインポート）"
      ]
    },
    {
      "cell_type": "code",
      "execution_count": 39,
      "metadata": {
        "id": "QQvZKiqiqmrL"
      },
      "outputs": [],
      "source": [
        "import math"
      ]
    },
    {
      "cell_type": "code",
      "execution_count": 40,
      "metadata": {
        "colab": {
          "base_uri": "https://localhost:8080/"
        },
        "id": "FL99_Jv8qmrL",
        "outputId": "0ece25df-c6c7-40a8-ac26-8b3ba7f83675"
      },
      "outputs": [
        {
          "output_type": "execute_result",
          "data": {
            "text/plain": [
              "1.4142135623730951"
            ]
          },
          "metadata": {},
          "execution_count": 40
        }
      ],
      "source": [
        "math.sqrt(2)"
      ]
    },
    {
      "cell_type": "markdown",
      "metadata": {
        "id": "g2JDaiX8qmrM"
      },
      "source": [
        "数学関係の各種の関数は、**モジュール**（**ライブラリ**）として提供されています。\n",
        "これらの関数を使いたいときは、上のように、**`import`** で始まる\n",
        "`import math` というおまじないを一度唱えます。\n",
        "そうしますと、**`math`** というライブラリが読み込まれて（**インポート**されて）、\n",
        "`math.関数名` という形で関数を用いることができます。\n",
        "上の例では、平方根を計算する **`math.sqrt`** という関数が用いられています。"
      ]
    },
    {
      "cell_type": "markdown",
      "metadata": {
        "id": "C1u_ebwSqmrM"
      },
      "source": [
        "もう少し例をあげておきましょう。sinとcosは **`math.sin`** と **`math.cos`** で求まります。"
      ]
    },
    {
      "cell_type": "code",
      "execution_count": 41,
      "metadata": {
        "colab": {
          "base_uri": "https://localhost:8080/"
        },
        "id": "9P5lj-OeqmrM",
        "outputId": "89ca67bf-59b9-46d0-96f0-779be3e5a3f9"
      },
      "outputs": [
        {
          "output_type": "execute_result",
          "data": {
            "text/plain": [
              "0.0"
            ]
          },
          "metadata": {},
          "execution_count": 41
        }
      ],
      "source": [
        "math.sin(0)"
      ]
    },
    {
      "cell_type": "code",
      "execution_count": 42,
      "metadata": {
        "colab": {
          "base_uri": "https://localhost:8080/"
        },
        "id": "ASlcgTdvqmrN",
        "outputId": "3558f5a9-ac91-47c8-ceea-c4eb574d68ce"
      },
      "outputs": [
        {
          "output_type": "execute_result",
          "data": {
            "text/plain": [
              "3.141592653589793"
            ]
          },
          "metadata": {},
          "execution_count": 42
        }
      ],
      "source": [
        "math.pi"
      ]
    },
    {
      "cell_type": "markdown",
      "metadata": {
        "id": "hoV1GphgqmrN"
      },
      "source": [
        "**`math.pi`** は、円周率を値とする変数です。\n",
        "\n",
        "変数については後に説明されます。"
      ]
    },
    {
      "cell_type": "code",
      "execution_count": 43,
      "metadata": {
        "colab": {
          "base_uri": "https://localhost:8080/"
        },
        "id": "CbpatF6YqmrN",
        "outputId": "41936eb5-f67e-4c6a-a665-a4daddb2ec12"
      },
      "outputs": [
        {
          "output_type": "execute_result",
          "data": {
            "text/plain": [
              "1.2246467991473532e-16"
            ]
          },
          "metadata": {},
          "execution_count": 43
        }
      ],
      "source": [
        "math.sin(math.pi)"
      ]
    },
    {
      "cell_type": "markdown",
      "metadata": {
        "id": "Y7Z-msVaqmrN"
      },
      "source": [
        "この結果は本当は 0 にならなければならないのですが、\n",
        "数値誤差のためにこのようになっています。"
      ]
    },
    {
      "cell_type": "code",
      "execution_count": 44,
      "metadata": {
        "colab": {
          "base_uri": "https://localhost:8080/"
        },
        "id": "U9AYNDODqmrO",
        "outputId": "599c009f-1577-462b-8129-914d8f60a595"
      },
      "outputs": [
        {
          "output_type": "execute_result",
          "data": {
            "text/plain": [
              "1.0"
            ]
          },
          "metadata": {},
          "execution_count": 44
        }
      ],
      "source": [
        "math.sin(math.pi/2)"
      ]
    },
    {
      "cell_type": "code",
      "execution_count": 45,
      "metadata": {
        "colab": {
          "base_uri": "https://localhost:8080/"
        },
        "id": "uC3VnebYqmrO",
        "outputId": "cb928300-9ebe-4003-e038-dcdba323636d"
      },
      "outputs": [
        {
          "output_type": "execute_result",
          "data": {
            "text/plain": [
              "1.414213562373095"
            ]
          },
          "metadata": {},
          "execution_count": 45
        }
      ],
      "source": [
        "math.sin(math.pi/4) * 2"
      ]
    },
    {
      "cell_type": "markdown",
      "metadata": {
        "id": "AWYv-v_IqmrO"
      },
      "source": [
        "## 練習"
      ]
    },
    {
      "cell_type": "markdown",
      "metadata": {
        "id": "9TuXXHqrqmrO"
      },
      "source": [
        "黄金比を求めてください。黄金比とは、5 の平方根に 1 を加えて 2 で割ったものです。約 1.618 になるはずです。"
      ]
    },
    {
      "cell_type": "code",
      "execution_count": 47,
      "metadata": {
        "colab": {
          "base_uri": "https://localhost:8080/"
        },
        "id": "5sZtwMl0qmrO",
        "outputId": "8ba50979-7cdf-4af5-c10f-bc06e948344a"
      },
      "outputs": [
        {
          "output_type": "execute_result",
          "data": {
            "text/plain": [
              "1.618033988749895"
            ]
          },
          "metadata": {},
          "execution_count": 47
        }
      ],
      "source": [
        "(math.sqrt(5)+1)/2"
      ]
    },
    {
      "cell_type": "code",
      "source": [],
      "metadata": {
        "id": "HSy1QzQ8tAMY"
      },
      "execution_count": null,
      "outputs": []
    }
  ],
  "metadata": {
    "kernelspec": {
      "display_name": "Python 3 (ipykernel)",
      "language": "python",
      "name": "python3"
    },
    "language_info": {
      "codemirror_mode": {
        "name": "ipython",
        "version": 3
      },
      "file_extension": ".py",
      "mimetype": "text/x-python",
      "name": "python",
      "nbconvert_exporter": "python",
      "pygments_lexer": "ipython3",
      "version": "3.12.4"
    },
    "colab": {
      "provenance": []
    }
  },
  "nbformat": 4,
  "nbformat_minor": 0
}